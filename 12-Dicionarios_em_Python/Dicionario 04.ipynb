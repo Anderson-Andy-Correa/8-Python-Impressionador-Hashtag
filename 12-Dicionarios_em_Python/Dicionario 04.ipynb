{
 "cells": [
  {
   "cell_type": "markdown",
   "metadata": {},
   "source": [
    "# For nos Dicionarios\n",
    "\n",
    "### Estrutura:"
   ]
  },
  {
   "cell_type": "raw",
   "metadata": {},
   "source": [
    "for chave in dicionario:\n",
    "    faça alguma coisa"
   ]
  },
  {
   "cell_type": "code",
   "execution_count": 3,
   "metadata": {},
   "outputs": [
    {
     "name": "stdout",
     "output_type": "stream",
     "text": [
      "iphone\n",
      "samsung galaxy\n",
      "tv samsung\n",
      "ps5\n",
      "tablet\n",
      "ipad\n",
      "tv philco\n",
      "notebook hp\n",
      "notebook dell\n",
      "notebook asus\n",
      "----------------------------------------\n",
      "iphone: 15000\n",
      "samsung galaxy: 12000\n",
      "tv samsung: 10000\n",
      "ps5: 14300\n",
      "tablet: 1720\n",
      "ipad: 1000\n",
      "tv philco: 2500\n",
      "notebook hp: 1000\n",
      "notebook dell: 17000\n",
      "notebook asus: 2450\n"
     ]
    }
   ],
   "source": [
    "vendas_tecnologia = {'iphone': 15000, 'samsung galaxy': 12000, 'tv samsung': 10000, 'ps5': 14300, 'tablet': 1720, 'ipad': 1000, 'tv philco': 2500, 'notebook hp': 1000, 'notebook dell': 17000, 'notebook asus': 2450}\n",
    "\n",
    "#demonstrando o for\n",
    "for chave in vendas_tecnologia:\n",
    "    print(chave)\n",
    "print('-' * 40)\n",
    "for chave, valor in vendas_tecnologia.items():\n",
    "    print(f'{chave}: {valor}')"
   ]
  },
  {
   "cell_type": "markdown",
   "metadata": {},
   "source": [
    "- Qual o total de notebooks vendidos?"
   ]
  },
  {
   "cell_type": "code",
   "execution_count": 5,
   "metadata": {},
   "outputs": [
    {
     "name": "stdout",
     "output_type": "stream",
     "text": [
      "Achei um notebook com o nome: notebook hp\n",
      "Achei um notebook com o nome: notebook dell\n",
      "Achei um notebook com o nome: notebook asus\n",
      "O total de vendas de notebook foi de 20450\n"
     ]
    }
   ],
   "source": [
    "total_venda_notebook = 0\n",
    "\n",
    "for key, value in vendas_tecnologia.items():\n",
    "    if 'notebook' in key.casefold():\n",
    "        total_venda_notebook += value\n",
    "        print(f'Achei um notebook com o nome: {key}')\n",
    "print(f'O total de vendas de notebook foi de {total_venda_notebook}')"
   ]
  }
 ],
 "metadata": {
  "kernelspec": {
   "display_name": "Python 3",
   "language": "python",
   "name": "python3"
  },
  "language_info": {
   "codemirror_mode": {
    "name": "ipython",
    "version": 3
   },
   "file_extension": ".py",
   "mimetype": "text/x-python",
   "name": "python",
   "nbconvert_exporter": "python",
   "pygments_lexer": "ipython3",
   "version": "3.12.2"
  }
 },
 "nbformat": 4,
 "nbformat_minor": 4
}
