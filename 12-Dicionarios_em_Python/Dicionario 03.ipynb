{
 "cells": [
  {
   "cell_type": "markdown",
   "metadata": {},
   "source": [
    "# Adicionar, Remover e Modificar Itens no Dicionário\n",
    "\n",
    "### Estrutura:\n",
    "\n",
    "- Adicionar itens:"
   ]
  },
  {
   "cell_type": "raw",
   "metadata": {},
   "source": [
    "dicionario = {}\n",
    "\n",
    "dicionario[chave] = valor\n",
    "\n",
    "outra opção:\n",
    "\n",
    "dicionario.update({chave: valor, chave: valor})"
   ]
  },
  {
   "cell_type": "code",
   "execution_count": 33,
   "metadata": {},
   "outputs": [
    {
     "name": "stdout",
     "output_type": "stream",
     "text": [
      "{'janeiro': 100000, 'fevereiro': 120000, 'março': 90000}\n",
      "{'janeiro': 100000, 'fevereiro': 120000, 'março': 90000, 'abril': 88000, 'maio': 89000, 'junho': 120000}\n",
      "{'janeiro': 88000, 'fevereiro': 120000, 'março': 90000, 'abril': 88000, 'maio': 89000, 'junho': 120000}\n"
     ]
    }
   ],
   "source": [
    "lucro_1tri = {'janeiro': 100000, 'fevereiro': 120000, 'março': 90000}\n",
    "lucro_2tri = {'abril': 88000, 'maio': 89000, 'junho': 120000}\n",
    "lucro_semestral = {}\n",
    "#adicionando 1 item\n",
    "for k, v in lucro_1tri.items():\n",
    "    lucro_semestral[k] = v\n",
    "print(lucro_semestral)\n",
    "\n",
    "#adicionando vários itens ou um dicionário a outro\n",
    "lucro_semestral.update(lucro_2tri)\n",
    "print(lucro_semestral)\n",
    "\n",
    "#adicionando um item já existente (manualmente ou pelo update)\n",
    "lucro_semestral['janeiro'] = 88000\n",
    "print(lucro_semestral)"
   ]
  },
  {
   "cell_type": "markdown",
   "metadata": {},
   "source": [
    "- Modificar itens:\n",
    "\n",
    "Da mesma forma que adicionamos 1 valor, caso essa chave já exista o item é apenas modificado.\n",
    "\n",
    "dicionario[chave] = valor\n",
    "\n",
    "Vamos modificar o lucro de fevereiro:<br>\n",
    "(Lembrando: caso o item não exista, ele vai criar o item no dicionário)"
   ]
  },
  {
   "cell_type": "code",
   "execution_count": 10,
   "metadata": {},
   "outputs": [
    {
     "name": "stdout",
     "output_type": "stream",
     "text": [
      "{'janeiro': 88000, 'fevereiro': 85000, 'março': 90000, 'abril': 88000, 'maio': 89000, 'junho': 120000}\n"
     ]
    }
   ],
   "source": [
    "lucro_fev = 85000\n",
    "lucro_semestral['fevereiro'] = lucro_fev\n",
    "print(lucro_semestral)"
   ]
  },
  {
   "cell_type": "markdown",
   "metadata": {},
   "source": [
    "- Remover itens:\n",
    "\n",
    "del dicionario[chave]\n",
    "\n",
    "ou então\n",
    "\n",
    "valor = dicionario.pop(chave)\n",
    "\n",
    "mas cuidado com:\n",
    "\n",
    "del dicionario<br>    ->    que é diferente de dicionario.clear()"
   ]
  },
  {
   "cell_type": "code",
   "execution_count": 34,
   "metadata": {},
   "outputs": [
    {
     "name": "stdout",
     "output_type": "stream",
     "text": [
      "Meses inicial:\n",
      "janeiro, fevereiro, março, abril, maio, junho\n",
      "----------------------------------------\n",
      "Deletando com del\n",
      "junho removido com sucesso\n",
      "janeiro, fevereiro, março, abril, maio\n",
      "----------------------------------------\n",
      "Deletando com pop\n",
      "maio removido com sucesso\n",
      "janeiro, fevereiro, março, abril\n",
      "----------------------------------------\n",
      "Limpando a lista com clear\n",
      "{}\n",
      "----------------------------------------\n",
      "Deletando com Listas\n",
      "Funcionários inicial:\n",
      "João, Lira, Maria, Ana, Paula\n",
      "----------------------------------------\n",
      "Maria foi deletado com sucesso.\n",
      "João, Lira, Ana, Paula\n"
     ]
    }
   ],
   "source": [
    "#removendo o mês de junho\n",
    "print('Meses inicial:')\n",
    "print(*lucro_semestral.keys(), sep=', ')\n",
    "print('-'*40)\n",
    "\n",
    "print(\"Deletando com del\")\n",
    "mes_para_remover = 'junho'\n",
    "if mes_para_remover in lucro_semestral:\n",
    "    del lucro_semestral[mes_para_remover]\n",
    "    print(f'{mes_para_remover} removido com sucesso')\n",
    "print(*lucro_semestral.keys(), sep=', ')\n",
    "print('-'*40)\n",
    "\n",
    "print('Deletando com pop')\n",
    "mes_para_remover = 'maio'\n",
    "if mes_para_remover in lucro_semestral:\n",
    "    teste = lucro_semestral.pop(mes_para_remover)\n",
    "    print(f'{mes_para_remover} removido com sucesso')\n",
    "print(*lucro_semestral.keys(), sep=', ')\n",
    "print('-'*40)\n",
    "\n",
    "print('Limpando a lista com clear')\n",
    "lucro_semestral.clear()\n",
    "print(lucro_semestral)\n",
    "print('-'*40)\n",
    "\n",
    "#obs: o del também funciona para listas, caso queira usar\n",
    "#del lista[i]\n",
    "funcionarios = ['João', 'Lira', 'Maria', 'Ana', 'Paula']\n",
    "\n",
    "print('Deletando com Listas')\n",
    "print('Funcionários inicial:')\n",
    "print(*funcionarios, sep=', ')\n",
    "print('-'*40)\n",
    "\n",
    "deletar_duncionario = 'Maria'\n",
    "if deletar_duncionario in funcionarios:\n",
    "    del funcionarios[funcionarios.index(deletar_duncionario)]\n",
    "    print(f'{deletar_duncionario} foi deletado com sucesso.')\n",
    "print(*funcionarios, sep=', ')"
   ]
  }
 ],
 "metadata": {
  "kernelspec": {
   "display_name": "Python 3",
   "language": "python",
   "name": "python3"
  },
  "language_info": {
   "codemirror_mode": {
    "name": "ipython",
    "version": 3
   },
   "file_extension": ".py",
   "mimetype": "text/x-python",
   "name": "python",
   "nbconvert_exporter": "python",
   "pygments_lexer": "ipython3",
   "version": "3.12.2"
  }
 },
 "nbformat": 4,
 "nbformat_minor": 4
}
