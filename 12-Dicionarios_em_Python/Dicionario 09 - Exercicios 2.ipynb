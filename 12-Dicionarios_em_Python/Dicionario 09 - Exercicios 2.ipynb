{
 "cells": [
  {
   "cell_type": "markdown",
   "metadata": {},
   "source": [
    "# Exercícios\n",
    "\n",
    "## 1. Exercício \"menos prático\" para treinar manipulação de dicionário\n",
    "\n",
    "Dessa vez, vamos apenas treinar a manipulação de dicionário. Transforme as listas abaixo em 1 único dicionário no formato:"
   ]
  },
  {
   "cell_type": "raw",
   "metadata": {},
   "source": [
    "dicionario = {\n",
    "    produto: [vendas2019, vendas2020],\n",
    "    produto2: [vendas2019, vendas2020],\n",
    "    produto3: [vendas2019, vendas2020],\n",
    "    ...\n",
    "}"
   ]
  },
  {
   "cell_type": "markdown",
   "metadata": {},
   "source": [
    "- Apesar de parecer \"menos prático\" esse é um procedimento que precisamos nos acostumar a fazer, visto que algumas funções (tema dos próximos módulos) precisam de dicionários para funcionar e saber transformar listas em dicionários (e vice-versa) é uma habilidade muito útil\n",
    "\n",
    "Obs: Lembre do zip para juntar listas.<br>\n",
    "Obs2: Repare que cada item das vendas é na verdade uma lista. Então é provável que você precise fazer esse código em 2 etapas"
   ]
  },
  {
   "cell_type": "code",
   "execution_count": 6,
   "metadata": {},
   "outputs": [
    {
     "name": "stdout",
     "output_type": "stream",
     "text": [
      "---------Vendas 2019----------\n",
      "iphone: 558147 unidades.\n",
      "galaxy: 712350 unidades.\n",
      "ipad: 573823 unidades.\n",
      "tv: 405252 unidades.\n",
      "máquina de café: 718654 unidades.\n",
      "kindle: 531580 unidades.\n",
      "geladeira: 973139 unidades.\n",
      "adega: 892292 unidades.\n",
      "notebook dell: 422760 unidades.\n",
      "notebook hp: 154753 unidades.\n",
      "notebook asus: 887061 unidades.\n",
      "microsoft surface: 438508 unidades.\n",
      "webcam: 237467 unidades.\n",
      "caixa de som: 489705 unidades.\n",
      "microfone: 328311 unidades.\n",
      "câmera canon: 591120 unidades.\n",
      "\n",
      "---------Vendas 2020----------\n",
      "iphone: 951642 unidades.\n",
      "galaxy: 244295 unidades.\n",
      "ipad: 26964 unidades.\n",
      "tv: 787604 unidades.\n",
      "máquina de café: 867660 unidades.\n",
      "kindle: 78830 unidades.\n",
      "geladeira: 710331 unidades.\n",
      "adega: 646016 unidades.\n",
      "notebook dell: 694913 unidades.\n",
      "notebook hp: 539704 unidades.\n",
      "notebook asus: 324831 unidades.\n",
      "microsoft surface: 667179 unidades.\n",
      "webcam: 295633 unidades.\n",
      "caixa de som: 725316 unidades.\n",
      "microfone: 644622 unidades.\n",
      "câmera canon: 994303 unidades.\n"
     ]
    }
   ],
   "source": [
    "produtos = ['iphone', 'galaxy', 'ipad', 'tv', 'máquina de café', 'kindle', 'geladeira', 'adega', 'notebook dell', 'notebook hp', 'notebook asus', 'microsoft surface', 'webcam', 'caixa de som', 'microfone', 'câmera canon']\n",
    "vendas2019 = [558147,712350,573823,405252,718654,531580,973139,892292,422760,154753,887061,438508,237467,489705,328311,591120]\n",
    "vendas2020 = [951642,244295,26964,787604,867660,78830,710331,646016,694913,539704,324831,667179,295633,725316,644622,994303]\n",
    "\n",
    "#seu código aqui\n",
    "tupla2019 = zip(produtos, vendas2019)\n",
    "dict_vendas_2019 = dict(tupla2019)\n",
    "\n",
    "texto_2019 = 'Vendas 2019'\n",
    "print(f'{texto_2019:-^30}')\n",
    "for k, v in dict_vendas_2019.items():\n",
    "    print(f'{k}: {v} unidades.')\n",
    "print()\n",
    "\n",
    "tupla2020 = zip(produtos, vendas2020)\n",
    "dict_vendas_2020 = dict(tupla2020)\n",
    "\n",
    "texto_2020 = 'Vendas 2020'\n",
    "print(f'{texto_2020:-^30}')\n",
    "for k, v in dict_vendas_2020.items():\n",
    "    print(f'{k}: {v} unidades.')"
   ]
  }
 ],
 "metadata": {
  "kernelspec": {
   "display_name": "Python 3",
   "language": "python",
   "name": "python3"
  },
  "language_info": {
   "codemirror_mode": {
    "name": "ipython",
    "version": 3
   },
   "file_extension": ".py",
   "mimetype": "text/x-python",
   "name": "python",
   "nbconvert_exporter": "python",
   "pygments_lexer": "ipython3",
   "version": "3.12.2"
  }
 },
 "nbformat": 4,
 "nbformat_minor": 4
}
