{
 "cells": [
  {
   "cell_type": "markdown",
   "metadata": {},
   "source": [
    "# Dicionários em Python\n",
    "\n",
    "### Estrutura:\n",
    "\n",
    "dicionario = {chave: valor, chave: valor, chave: valor, chave: valor ...}\n",
    "\n",
    "### Vantagens e Desvantagens\n",
    "\n",
    "- Não devem ser usados para pegar itens em uma determinada ordem\n",
    "- Podem ter valores heterogêneos (vários tipos de valores dentro de um mesmo dicionário: inteiros, strings, listas, etc)\n",
    "- Chaves são únicas obrigatoriamente\n",
    "- Mais intuitivos de trabalhar"
   ]
  },
  {
   "cell_type": "code",
   "execution_count": 2,
   "metadata": {},
   "outputs": [],
   "source": [
    "mais_vendidos = {'tecnologia': 'iphone', 'refrigeracao': 'ar consul 12000 btu', 'livros': 'o alquimista', 'eletrodoméstico': 'geladeira', 'lazer': 'prancha surf'}\n",
    "\n",
    "vendas_tecnologia = {'iphone': 15000, 'samsung galaxy': 12000, 'tv samsung': 10000, 'ps5': 14300, 'tablet': 1720, 'ipad': 1000, 'tv philco': 2500, 'notebook hp': 1000, 'notebook dell': 17000, 'notebook asus': 2450}"
   ]
  },
  {
   "cell_type": "markdown",
   "metadata": {},
   "source": [
    "- Qual foi o item mais vendido nas categorias 'livros' e 'lazer'?\n",
    "- Quanto foi vendido de 'notebook asus' e de 'ipad'?"
   ]
  },
  {
   "cell_type": "code",
   "execution_count": 6,
   "metadata": {},
   "outputs": [
    {
     "name": "stdout",
     "output_type": "stream",
     "text": [
      "O item mais vendido na categoria \u001b[1;32mlivros\u001b[0;37m foi \u001b[1;33mo alquimista\u001b[0;37m\n",
      "O item mais vendido na categoria \u001b[1;32mlazer\u001b[0;37m foi \u001b[1;33mprancha surf\u001b[0;37m\n",
      "A quantidade de venda do item \u001b[1;32mnotebook asus\u001b[0;37m foi de \u001b[1;33m2450\u001b[0;37m\n",
      "A quantidade de venda do item \u001b[1;32mipad\u001b[0;37m foi de \u001b[1;33m1000\u001b[0;37m\n"
     ]
    }
   ],
   "source": [
    "categoria_analisada = ['livros', 'lazer']\n",
    "for item in categoria_analisada:\n",
    "    print(f'O item mais vendido na categoria \\033[1;32m{item}\\033[0;37m foi \\033[1;33m{mais_vendidos.get(item)}\\033[0;37m')\n",
    "\n",
    "venda_analisada = ['notebook asus', 'ipad']\n",
    "for venda in venda_analisada:\n",
    "    print(f'A quantidade de venda do item \\033[1;32m{venda}\\033[0;37m foi de \\033[1;33m{vendas_tecnologia[venda]}\\033[0;37m')"
   ]
  }
 ],
 "metadata": {
  "kernelspec": {
   "display_name": "Python 3",
   "language": "python",
   "name": "python3"
  },
  "language_info": {
   "codemirror_mode": {
    "name": "ipython",
    "version": 3
   },
   "file_extension": ".py",
   "mimetype": "text/x-python",
   "name": "python",
   "nbconvert_exporter": "python",
   "pygments_lexer": "ipython3",
   "version": "3.9.13"
  }
 },
 "nbformat": 4,
 "nbformat_minor": 4
}
