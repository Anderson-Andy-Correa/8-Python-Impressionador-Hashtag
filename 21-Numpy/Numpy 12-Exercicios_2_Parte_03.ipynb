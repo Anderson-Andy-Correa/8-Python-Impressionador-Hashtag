{
 "cells": [
  {
   "cell_type": "markdown",
   "metadata": {},
   "source": [
    "## Exercício\n",
    "\n",
    "Você é um gerente de vendas e tem os dados de vendas de três produtos diferentes (Produto A, Produto B, Produto C) para os últimos 5 dias em um array 2D NumPy. Cada linha do array representa um produto e cada coluna representa um dia. Seu trabalho é calcular as vendas totais para cada produto e para cada dia.\n",
    "\n",
    "Use o seguinte array para sua análise:\n",
    "\n",
    "```python\n",
    "vendas = np.array([[50, 60, 70, 65, 80],\n",
    "                   [85, 90, 78, 92, 88],\n",
    "                   [72, 75, 68, 77, 76]])\n",
    "```\n",
    "\n",
    "**Solução:**\n"
   ]
  },
  {
   "cell_type": "code",
   "execution_count": 4,
   "metadata": {
    "ExecuteTime": {
     "end_time": "2023-07-03T12:12:12.700234800Z",
     "start_time": "2023-07-03T12:12:12.677347900Z"
    },
    "collapsed": false,
    "jupyter": {
     "outputs_hidden": false
    }
   },
   "outputs": [
    {
     "name": "stdout",
     "output_type": "stream",
     "text": [
      "--------Vendas por dia--------\n",
      "segunda-feira  : R$207.00\n",
      "terça-feira    : R$225.00\n",
      "quarta-feira   : R$216.00\n",
      "quinta-feira   : R$234.00\n",
      "sexta-feira    : R$244.00\n",
      "\n",
      "------Vendas por produto------\n",
      "Produto A: R$325.00\n",
      "Produto B: R$433.00\n",
      "Produto C: R$368.00\n"
     ]
    }
   ],
   "source": [
    "import numpy as np\n",
    "from babel.dates import get_day_names\n",
    "from string import ascii_uppercase\n",
    "\n",
    "dia_semana_pt = list(get_day_names(locale='pt_BR').values())\n",
    "vendas = np.array([[50, 60, 70, 65, 80],\n",
    "                   [85, 90, 78, 92, 88],\n",
    "                   [72, 75, 68, 77, 76]])\n",
    "produtos = [f'Produto {ascii_uppercase[produto]}' for produto in range(vendas.shape[0])]\n",
    "vendas_tot_dia = vendas.sum(axis=0)\n",
    "vendas_tot_produto = vendas.sum(axis=1)\n",
    "\n",
    "print('Vendas por dia'.center(30, '-'))\n",
    "for pos, vendas_dia in enumerate(vendas_tot_dia):\n",
    "    print(f'{dia_semana_pt[pos + 1]:15}: R${vendas_dia:.2f}')\n",
    "print()\n",
    "\n",
    "print('Vendas por produto'.center(30, '-'))\n",
    "for pos, vendas_produto in enumerate(vendas_tot_produto):\n",
    "    print(f'{produtos[pos]}: R${vendas_produto:.2f}')\n"
   ]
  }
 ],
 "metadata": {
  "kernelspec": {
   "display_name": "Python 3 (ipykernel)",
   "language": "python",
   "name": "python3"
  },
  "language_info": {
   "codemirror_mode": {
    "name": "ipython",
    "version": 3
   },
   "file_extension": ".py",
   "mimetype": "text/x-python",
   "name": "python",
   "nbconvert_exporter": "python",
   "pygments_lexer": "ipython3",
   "version": "3.12.4"
  }
 },
 "nbformat": 4,
 "nbformat_minor": 4
}
