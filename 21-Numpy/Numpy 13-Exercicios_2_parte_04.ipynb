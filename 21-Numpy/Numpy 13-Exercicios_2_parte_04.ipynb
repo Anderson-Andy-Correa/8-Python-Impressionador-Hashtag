{
 "cells": [
  {
   "cell_type": "markdown",
   "metadata": {},
   "source": [
    "## Exercício\n",
    "\n",
    "Você é um analista de dados em uma empresa e conduziu uma pesquisa de satisfação do cliente durante uma semana. Você perguntou as clientes para classificar seu nível de satisfação com o serviço ao cliente em uma escala de 0 a 10. Você coletou respostas de 30 clientes por dia durante 7 dias, resultando em um total de 210 respostas.\n",
    "\n",
    "No entanto, os dados que você recebeu estão em um array 1D de 210 elementos. Reorganize os dados de forma a ter as respostas por dia e faça uma análise descritiva básica, calculando a média geral de satisfação e a média diária."
   ]
  },
  {
   "cell_type": "code",
   "execution_count": 1,
   "metadata": {
    "ExecuteTime": {
     "end_time": "2023-07-03T12:12:12.700234800Z",
     "start_time": "2023-07-03T12:12:12.677347900Z"
    },
    "collapsed": false,
    "jupyter": {
     "outputs_hidden": false
    }
   },
   "outputs": [
    {
     "name": "stdout",
     "output_type": "stream",
     "text": [
      "[ 0  8  7  4  4  9  0  7  2  1  5 10  8  8  7  8  5  1  9  4  5  4  2 10\n",
      "  8  7  4  9  5  4  4  2  1  6  9  0  9  9  3  6  1  8  7  3  0 10  4  9\n",
      "  7  8  8  2  4  5  5  0  6  1  8  7 10  8  4 10  4  3  9  4  0  5  8  2\n",
      "  5  1  7  5  3  2  6  7 10  4  1  9  6  7  1  3  8  9  4  8  9  4  9  3\n",
      "  2  7  7  1  9  2  8  0  8  8  8  7  5  7  3  8  6  5  5  6  0  1  2  1\n",
      "  4  7  7  5  9  6  0  8  6  6  6  6  0  6  8  3  6  0  3  4 10  2  3  4\n",
      " 10  9  0  2  9  0  9  3 10  3  4  7  1  6  5  8 10  7  4  4  4  8  3  1\n",
      "  3  0  1  0  8  7  7  5  7  1  9  5 10  1  5  7  5  4  1  4  2  3  7  6\n",
      "  6  3 10  0  3  1  3 10  4  9  5  7  5  2  8 10  2  8]\n"
     ]
    }
   ],
   "source": [
    "import numpy as np\n",
    "\n",
    "# considere os seguintes dados aleatórios como início\n",
    "rng = np.random.default_rng(seed=42)\n",
    "respostas = rng.integers(low=0, high=10, size=210, endpoint=True)\n",
    "print(respostas)"
   ]
  },
  {
   "cell_type": "markdown",
   "metadata": {},
   "source": [
    "O seguinte modelo pode ser pensado para os dados recebidos:\n",
    "\n",
    "    dia 1 cliente 1, dia 1 cliente 2, dia 1 cliente 3, ...\n",
    "    ... dia 7 cliente 28, dia 7 cliente 29, dia 7 cliente 30\n",
    "    \n",
    "Assim, podemos fazer um reshape:"
   ]
  },
  {
   "cell_type": "code",
   "execution_count": 51,
   "metadata": {},
   "outputs": [
    {
     "name": "stdout",
     "output_type": "stream",
     "text": [
      "-----Média de Notas Geral-----\n",
      "5.15\n",
      "\n",
      "----Média de Notas Diária-----\n",
      "Semana 1: 5.50\n",
      "Semana 2: 5.07\n",
      "Semana 3: 5.37\n",
      "Semana 4: 5.10\n",
      "Semana 5: 4.97\n",
      "Semana 6: 5.00\n",
      "Semana 7: 5.03\n",
      "\n"
     ]
    }
   ],
   "source": [
    "respostas_ordenadas = respostas.reshape(7, 30)\n",
    "media_geral_total = respostas_ordenadas.mean()\n",
    "media_diaria = respostas_ordenadas.mean(axis=1)\n",
    "\n",
    "\n",
    "print('Média de Notas Geral'.center(30, '-'))\n",
    "print(f'{media_geral_total:_.2f}')\n",
    "print()\n",
    "\n",
    "print('Média de Notas Diária'.center(30, '-'))\n",
    "for pos, diaria in enumerate(media_diaria):\n",
    "    print(f'Semana {pos + 1}: {diaria:_.2f}')\n",
    "print()"
   ]
  },
  {
   "cell_type": "code",
   "execution_count": 52,
   "metadata": {},
   "outputs": [
    {
     "name": "stdout",
     "output_type": "stream",
     "text": [
      "60.95% das notas são abaixo de 7!\n"
     ]
    }
   ],
   "source": [
    "condicao = (respostas_ordenadas < 7) & (respostas_ordenadas >= 0)\n",
    "respostas_abaixo_media = np.where(condicao)\n",
    "qtd_abaixo_media = len(list(zip(*respostas_abaixo_media)))\n",
    "porpocao_abaixo_media = qtd_abaixo_media / respostas_ordenadas.size * 100 \n",
    "print(f'{porpocao_abaixo_media:.2f}% das notas são abaixo de 7!')\n",
    "\n"
   ]
  }
 ],
 "metadata": {
  "kernelspec": {
   "display_name": "Python 3 (ipykernel)",
   "language": "python",
   "name": "python3"
  },
  "language_info": {
   "codemirror_mode": {
    "name": "ipython",
    "version": 3
   },
   "file_extension": ".py",
   "mimetype": "text/x-python",
   "name": "python",
   "nbconvert_exporter": "python",
   "pygments_lexer": "ipython3",
   "version": "3.12.4"
  }
 },
 "nbformat": 4,
 "nbformat_minor": 4
}
