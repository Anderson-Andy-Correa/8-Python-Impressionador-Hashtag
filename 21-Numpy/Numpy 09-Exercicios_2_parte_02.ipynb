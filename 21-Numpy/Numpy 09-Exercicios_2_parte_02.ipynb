{
 "cells": [
  {
   "cell_type": "markdown",
   "metadata": {},
   "source": [
    "## Exercício\n",
    "\n",
    "Você é um engenheiro de produção e tem os tempos de ciclo (em minutos) de uma linha de produção em um array NumPy. Seu trabalho é identificar quaisquer tempos de ciclo que estão dois desvios padrão acima ou abaixo da média. Use o seguinte array para sua análise: `tempos_ciclo = np.array([5.5, 5.7, 5.9, 6.0, 5.8, 5.6, 5.7, 7.2, 4.8])`. "
   ]
  },
  {
   "cell_type": "code",
   "execution_count": 12,
   "metadata": {
    "ExecuteTime": {
     "end_time": "2023-07-03T12:12:12.700234800Z",
     "start_time": "2023-07-03T12:12:12.644925Z"
    },
    "collapsed": false,
    "jupyter": {
     "outputs_hidden": false
    }
   },
   "outputs": [
    {
     "name": "stdout",
     "output_type": "stream",
     "text": [
      "media = 5.8\n",
      "desvio_padrao = 0.592546294487706\n"
     ]
    }
   ],
   "source": [
    "import numpy as np\n",
    "\n",
    "tempos_ciclo = np.array([5.5, 5.7, 5.9, 6.0, 5.8, 5.6, 5.7, 7.2, 4.8])\n",
    "media = np.mean(tempos_ciclo) \n",
    "print(f\"{media = }\")\n",
    "desvio_padrao = np.std(tempos_ciclo)\n",
    "print(f\"{desvio_padrao = }\")"
   ]
  },
  {
   "cell_type": "code",
   "execution_count": 14,
   "metadata": {},
   "outputs": [
    {
     "name": "stdout",
     "output_type": "stream",
     "text": [
      "anomalias = array([7.2])\n"
     ]
    }
   ],
   "source": [
    "condicao = (tempos_ciclo > media + 2 * desvio_padrao) | (tempos_ciclo < media - 2 * desvio_padrao)\n",
    "anomalias = tempos_ciclo[np.where(condicao)]\n",
    "print(f\"{anomalias = }\")"
   ]
  },
  {
   "cell_type": "code",
   "execution_count": 15,
   "metadata": {},
   "outputs": [
    {
     "name": "stdout",
     "output_type": "stream",
     "text": [
      "[False False False False False False False  True False]\n"
     ]
    }
   ],
   "source": [
    "print(condicao)"
   ]
  },
  {
   "cell_type": "code",
   "execution_count": 17,
   "metadata": {},
   "outputs": [
    {
     "name": "stdout",
     "output_type": "stream",
     "text": [
      "[5.5 5.7 5.9 6.  5.8 5.6 5.7 4.8]\n"
     ]
    }
   ],
   "source": [
    "condicao_contraria = (tempos_ciclo >= media - 2 * desvio_padrao) & (tempos_ciclo <= media + 2 * desvio_padrao)\n",
    "print(tempos_ciclo[condicao_contraria])"
   ]
  },
  {
   "cell_type": "code",
   "execution_count": 18,
   "metadata": {},
   "outputs": [
    {
     "name": "stdout",
     "output_type": "stream",
     "text": [
      "(array([0, 1, 2, 3, 4, 5, 6, 8], dtype=int64),)\n"
     ]
    }
   ],
   "source": [
    "print(np.where(~condicao)) # Inversão da condição"
   ]
  },
  {
   "cell_type": "code",
   "execution_count": 26,
   "metadata": {},
   "outputs": [
    {
     "name": "stdout",
     "output_type": "stream",
     "text": [
      "[5.87450098 5.72172175 6.17948007 5.86215818 5.4825911  6.01426181\n",
      " 6.57268039 6.36118932 5.38300429 5.0501792  5.43068103 5.82448756\n",
      " 4.42231163 5.67035581 5.06174008 5.36609769 5.47750136 5.61257751\n",
      " 6.04391015 6.41773743 5.72383726 6.60969287 5.40584136 6.00828599\n",
      " 6.33534791 5.85570664 5.35944227 5.25383504 5.52877626 5.9304758\n",
      " 5.20175449 5.67605379 5.70565181 6.12047605 5.92719547 6.01057478\n",
      " 5.41257628 5.72319792 6.26454176 6.68492709 5.05394538 6.69706992\n",
      " 6.5974935  6.26296318 5.9567022  5.6139862  6.66394475 6.9615438\n",
      " 6.86755207 6.57925986 6.01176444 5.08401527 5.79736072 6.18899179\n",
      " 5.03658619 6.03412811 6.05471414 6.21243754 5.09835529 5.40791059\n",
      " 5.54139191 5.10683821 6.83065599 5.50614994 5.99492973 5.6467838\n",
      " 6.73828099 6.58237501 6.17529075 4.49431839 5.83082958 6.20511572\n",
      " 6.39489371 5.43386147 6.87962608 5.01758352 5.40801402 6.35406041\n",
      " 5.82906713 6.98651031 5.91170635 5.42480319 5.57627614 5.15344541\n",
      " 5.04291535 6.17354799 6.14436765 6.56708603 5.35286113 6.80087436\n",
      " 5.62970948 6.73290979 5.54355435 5.3641921  5.9480094  6.4111837\n",
      " 5.89540563 5.45304706 5.00526523 4.96953439]\n"
     ]
    }
   ],
   "source": [
    "rng = np.random.default_rng(seed=0)\n",
    "tempos_gerados = rng.normal(loc=media, scale=desvio_padrao, size=100)\n",
    "print(tempos_gerados)"
   ]
  },
  {
   "cell_type": "code",
   "execution_count": 27,
   "metadata": {},
   "outputs": [
    {
     "name": "stdout",
     "output_type": "stream",
     "text": [
      "5.8\n",
      "5.848053545223129\n"
     ]
    }
   ],
   "source": [
    "print(media)\n",
    "print(tempos_gerados.mean())"
   ]
  },
  {
   "cell_type": "code",
   "execution_count": 28,
   "metadata": {},
   "outputs": [
    {
     "name": "stdout",
     "output_type": "stream",
     "text": [
      "0.592546294487706\n",
      "0.5701068395534514\n"
     ]
    }
   ],
   "source": [
    "print(desvio_padrao)\n",
    "print(tempos_gerados.std())"
   ]
  },
  {
   "cell_type": "code",
   "execution_count": 29,
   "metadata": {},
   "outputs": [
    {
     "name": "stdout",
     "output_type": "stream",
     "text": [
      "(array([12, 69], dtype=int64),)\n",
      "[4.42231163 4.49431839]\n"
     ]
    }
   ],
   "source": [
    "condicao = (tempos_gerados > tempos_gerados.mean() + 2 * tempos_gerados.std()) | (tempos_gerados < tempos_gerados.mean() - 2 * tempos_gerados.std())\n",
    "print(np.where(condicao))\n",
    "print(tempos_gerados[condicao])"
   ]
  }
 ],
 "metadata": {
  "kernelspec": {
   "display_name": "Python 3 (ipykernel)",
   "language": "python",
   "name": "python3"
  },
  "language_info": {
   "codemirror_mode": {
    "name": "ipython",
    "version": 3
   },
   "file_extension": ".py",
   "mimetype": "text/x-python",
   "name": "python",
   "nbconvert_exporter": "python",
   "pygments_lexer": "ipython3",
   "version": "3.12.4"
  }
 },
 "nbformat": 4,
 "nbformat_minor": 4
}
