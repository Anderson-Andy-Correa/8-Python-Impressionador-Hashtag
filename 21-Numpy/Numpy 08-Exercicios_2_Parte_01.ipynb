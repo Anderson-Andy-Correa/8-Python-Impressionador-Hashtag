{
 "cells": [
  {
   "cell_type": "markdown",
   "metadata": {},
   "source": [
    "## Exercício\n",
    "\n",
    "Você é um analista de RH e tem os salários de todos os funcionários da sua empresa em um array NumPy. Seu trabalho é identificar quantos funcionários ganham acima da média. Use o seguinte array para sua análise: `salarios = np.array([3000, 2500, 3500, 4000, 2000, 4500, 3000, 3800, 4800])`."
   ]
  },
  {
   "cell_type": "code",
   "execution_count": 13,
   "metadata": {
    "ExecuteTime": {
     "end_time": "2023-07-03T17:58:55.261401600Z",
     "start_time": "2023-07-03T17:58:55.249755Z"
    },
    "collapsed": false,
    "jupyter": {
     "outputs_hidden": false
    }
   },
   "outputs": [
    {
     "name": "stdout",
     "output_type": "stream",
     "text": [
      "[3000 2500 3500 4000 2000 4500 3000 3800 4800]\n",
      "media_salarios = 3_455.56\n",
      "Salários maiores do que a média: 5\n",
      "[3500 4000 4500 3800 4800]\n"
     ]
    }
   ],
   "source": [
    "import numpy as np\n",
    "\n",
    "salarios = np.array([3000, 2500, 3500, 4000, 2000, 4500, 3000, 3800, 4800])\n",
    "print(salarios)\n",
    "media_salarios = np.mean(salarios)\n",
    "print(f\"{media_salarios = :_.2f}\")\n",
    "salarios_maiores_media = salarios > media_salarios\n",
    "print(f\"Salários maiores do que a média: {np.sum(salarios_maiores_media)}\")\n",
    "print(salarios[salarios_maiores_media])\n"
   ]
  },
  {
   "cell_type": "code",
   "execution_count": 14,
   "metadata": {},
   "outputs": [
    {
     "name": "stdout",
     "output_type": "stream",
     "text": [
      "5\n"
     ]
    }
   ],
   "source": [
    "print(np.count_nonzero(salarios_maiores_media))"
   ]
  },
  {
   "cell_type": "code",
   "execution_count": 22,
   "metadata": {},
   "outputs": [
    {
     "name": "stdout",
     "output_type": "stream",
     "text": [
      "{False: 4, True: 5}\n"
     ]
    }
   ],
   "source": [
    "valores_unicos, contagem = np.unique(salarios_maiores_media, return_counts=True)\n",
    "print(dict(zip(valores_unicos, contagem)))"
   ]
  },
  {
   "cell_type": "code",
   "execution_count": 29,
   "metadata": {},
   "outputs": [
    {
     "name": "stdout",
     "output_type": "stream",
     "text": [
      "[2249 4167 3832 3228 3212 4404 2240 3952 2564 2263 3474 4731 4060 4131\n",
      " 4008 4200 3437 2358 4351 3261]\n"
     ]
    }
   ],
   "source": [
    "rng = np.random.default_rng(seed=42)\n",
    "\n",
    "salarios_gerados = rng.integers(low=np.min(salarios), high=np.max(salarios), size=20)\n",
    "print(salarios_gerados)"
   ]
  },
  {
   "cell_type": "code",
   "execution_count": 31,
   "metadata": {},
   "outputs": [
    {
     "name": "stdout",
     "output_type": "stream",
     "text": [
      "[2249 4167 3833 3229 3212 4404 2240 3953 2564 2263 3474 4732 4060 4131\n",
      " 4009 4201 3437 2358 4352 3261]\n"
     ]
    }
   ],
   "source": [
    "rng = np.random.default_rng(seed=42)\n",
    "\n",
    "salarios_gerados = rng.integers(low=np.min(salarios), high=np.max(salarios), size=20, endpoint=True)\n",
    "print(salarios_gerados)"
   ]
  },
  {
   "cell_type": "code",
   "execution_count": 32,
   "metadata": {},
   "outputs": [
    {
     "name": "stdout",
     "output_type": "stream",
     "text": [
      "3506.45\n"
     ]
    }
   ],
   "source": [
    "print(np.mean(salarios_gerados))"
   ]
  },
  {
   "cell_type": "code",
   "execution_count": 34,
   "metadata": {},
   "outputs": [
    {
     "name": "stdout",
     "output_type": "stream",
     "text": [
      "2240\n",
      "4732\n",
      "3506.45\n"
     ]
    }
   ],
   "source": [
    "print(salarios_gerados.min())\n",
    "print(salarios_gerados.max())\n",
    "print(salarios_gerados.mean())"
   ]
  }
 ],
 "metadata": {
  "kernelspec": {
   "display_name": "Python 3 (ipykernel)",
   "language": "python",
   "name": "python3"
  },
  "language_info": {
   "codemirror_mode": {
    "name": "ipython",
    "version": 3
   },
   "file_extension": ".py",
   "mimetype": "text/x-python",
   "name": "python",
   "nbconvert_exporter": "python",
   "pygments_lexer": "ipython3",
   "version": "3.12.4"
  }
 },
 "nbformat": 4,
 "nbformat_minor": 4
}
