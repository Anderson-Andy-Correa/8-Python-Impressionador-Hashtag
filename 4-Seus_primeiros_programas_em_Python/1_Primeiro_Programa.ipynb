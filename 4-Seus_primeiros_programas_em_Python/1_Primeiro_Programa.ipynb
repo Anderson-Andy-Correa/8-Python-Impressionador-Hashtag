{
 "cells": [
  {
   "cell_type": "markdown",
   "metadata": {},
   "source": [
    "Meu primeiro programa, bora para cima"
   ]
  },
  {
   "cell_type": "code",
   "execution_count": 3,
   "metadata": {},
   "outputs": [
    {
     "name": "stdout",
     "output_type": "stream",
     "text": [
      "String\n"
     ]
    }
   ],
   "source": [
    "print(\"String\")"
   ]
  },
  {
   "cell_type": "code",
   "execution_count": 15,
   "metadata": {},
   "outputs": [
    {
     "name": "stdout",
     "output_type": "stream",
     "text": [
      "A soma de 2 + 2 é 4\n",
      "A subtração de 10 e 6 é 4.0\n",
      "A multiplicação de 4 por 5 é 20.0\n",
      "A divisão de 6 por 2 é 3.0\n",
      "A divisão inteira de 8 por 3 é 2.0\n",
      "O resto da divisão de 7 por 4 é 3.0\n"
     ]
    }
   ],
   "source": [
    "print(\"A soma de 2 + 2 é \" + str(int(2 + 2)))\n",
    "print(\"A subtração de 10 e 6 é \" + str(float(10 - 6)))\n",
    "print(\"A multiplicação de 4 por 5 é \" + str(float(4 * 5)))\n",
    "print(\"A divisão de 6 por 2 é \" + str(float(6 / 2)))\n",
    "print(\"A divisão inteira de 8 por 3 é \" + str(float( 8 // 3)))\n",
    "print(\"O resto da divisão de 7 por 4 é \" + str(float(7 % 4)))"
   ]
  },
  {
   "cell_type": "markdown",
   "metadata": {},
   "source": [
    "Case sensetive"
   ]
  },
  {
   "cell_type": "code",
   "execution_count": 16,
   "metadata": {},
   "outputs": [
    {
     "name": "stdout",
     "output_type": "stream",
     "text": [
      "True\n",
      "False\n"
     ]
    }
   ],
   "source": [
    "print(\"C\" in \"Corrêa\")\n",
    "print(\"c\" in \"Corrêa\")"
   ]
  }
 ],
 "metadata": {
  "kernelspec": {
   "display_name": "Python 3",
   "language": "python",
   "name": "python3"
  },
  "language_info": {
   "codemirror_mode": {
    "name": "ipython",
    "version": 3
   },
   "file_extension": ".py",
   "mimetype": "text/x-python",
   "name": "python",
   "nbconvert_exporter": "python",
   "pygments_lexer": "ipython3",
   "version": "3.9.13"
  }
 },
 "nbformat": 4,
 "nbformat_minor": 2
}
