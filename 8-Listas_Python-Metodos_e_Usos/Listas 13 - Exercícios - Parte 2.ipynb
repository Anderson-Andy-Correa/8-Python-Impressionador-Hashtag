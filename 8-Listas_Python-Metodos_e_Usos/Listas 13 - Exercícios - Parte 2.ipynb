{
 "cells": [
  {
   "cell_type": "markdown",
   "metadata": {},
   "source": [
    "# Exercícios\n",
    "\n",
    "## 1. Mudança de Carga Tributária\n",
    "\n",
    "- Reformas e mudanças de cargas tributárias são bem comuns no Brasil.\n",
    "\n",
    "Digamos que você trabalhe em uma empresa de ecommerce\n",
    "\n",
    "No Brasil, o imposto sobre livros é zerado. De um ano para o outro, o governo criou um novo imposto que incide em 10% sobre o valor dos livros e agora você precisa alterar o registro dos preços dos livros da empresa para garantir que esse imposto vai ser repassado para o preço final do produto.\n",
    "\n",
    "Crie um código que recalcule o valor do livro da sua lista de produtos e ajuste na tabela.\n",
    "\n",
    "Além disso, calcule qual vai ser o impacto financeiro da criação desse imposto para a empresa (ou seja, quanto que o imposto vai aumentar de custo para a empresa)\n",
    "\n",
    "Obs: para facilitar, colocamos apenas 1 livro na lista, mas em breve vamos aprender um for que vai adaptar esse cenário para qualquer quantidade de livros na sua lista.\n",
    "\n",
    "Obs2: Seu código deve funcionar mesmo que não haja livros na lista de produtos da empresa"
   ]
  },
  {
   "cell_type": "code",
   "execution_count": 4,
   "metadata": {},
   "outputs": [
    {
     "name": "stdout",
     "output_type": "stream",
     "text": [
      "O livro que antes custava R$40.00 agora custa R$44.00, uma variação de R$+4.00\n",
      "O faturamento anterior com livro era de R$2_000_000.00 e agora é de R$2_200_000.00, uma variação de R$+200_000.00 em impostos.\n"
     ]
    }
   ],
   "source": [
    "produtos = ['computador', 'livro', 'tablet', 'celular', 'tv', 'ar condicionado', 'alexa', 'máquina de café', 'kindle']\n",
    "\n",
    "#cada item da lista dos produtos corresponde a quantidade de vendas no mês e preço, nessa ordem\n",
    "produtos_ecommerce = [\n",
    "    [10000, 2500],\n",
    "    [50000, 40],\n",
    "    [7000, 1200],\n",
    "    [20000, 1500],\n",
    "    [5800, 1300],\n",
    "    [7200, 2500],\n",
    "    [200, 800],\n",
    "    [3300, 700],\n",
    "    [1900, 400]\n",
    "]\n",
    "\n",
    "localizar_produto = 'livro'\n",
    "if localizar_produto in produtos:\n",
    "    indice = produtos.index(localizar_produto)\n",
    "    aumento_imposto = 0.1\n",
    "    preco_antigo = produtos_ecommerce[indice][1]\n",
    "    preco_novo = produtos_ecommerce[indice][1] = preco_antigo * (1 + aumento_imposto)\n",
    "    diferenca_preco = preco_novo - preco_antigo\n",
    "    print(f'O {localizar_produto} que antes custava R${preco_antigo:_.2f} agora custa R${preco_novo:_.2f}, uma variação de R${diferenca_preco:+_.2f}')\n",
    "    faturamento_antigo = produtos_ecommerce[indice][0] * preco_antigo\n",
    "    faturamento_novo = produtos_ecommerce[indice][0] * preco_novo\n",
    "    diferenca_faturamento = faturamento_novo - faturamento_antigo\n",
    "    print(f'O faturamento anterior com {localizar_produto} era de R${faturamento_antigo:_.2f} e agora é de R${faturamento_novo:_.2f}, uma variação de R${diferenca_faturamento:+_.2f} em impostos.')\n",
    "else:\n",
    "    print(f'Não há {localizar_produto} na lsita de produtos, sem alteração.')"
   ]
  }
 ],
 "metadata": {
  "kernelspec": {
   "display_name": "Python 3",
   "language": "python",
   "name": "python3"
  },
  "language_info": {
   "codemirror_mode": {
    "name": "ipython",
    "version": 3
   },
   "file_extension": ".py",
   "mimetype": "text/x-python",
   "name": "python",
   "nbconvert_exporter": "python",
   "pygments_lexer": "ipython3",
   "version": "3.11.8"
  }
 },
 "nbformat": 4,
 "nbformat_minor": 4
}
