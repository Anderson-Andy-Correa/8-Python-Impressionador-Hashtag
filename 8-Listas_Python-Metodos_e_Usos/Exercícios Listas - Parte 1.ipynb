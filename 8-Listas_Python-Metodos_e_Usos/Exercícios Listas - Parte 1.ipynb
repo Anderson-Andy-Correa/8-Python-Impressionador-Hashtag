{
 "cells": [
  {
   "cell_type": "markdown",
   "metadata": {},
   "source": [
    "# Exercícios\n",
    "\n",
    "## 1. Faturamento do Melhor e do Pior Mês do Ano\n",
    "\n",
    "Qual foi o valor de vendas do melhor mês do Ano?\n",
    "E valor do pior mês do ano?"
   ]
  },
  {
   "cell_type": "code",
   "execution_count": 20,
   "metadata": {},
   "outputs": [
    {
     "name": "stdout",
     "output_type": "stream",
     "text": [
      "A maior venda do ano foi em nov com R$49_051.00 em vendas\n",
      "A menor venda do ano foi em dez com R$9_650.00 em vendas\n"
     ]
    }
   ],
   "source": [
    "meses = ['jan', 'fev', 'mar', 'abr', 'mai', 'jun', 'jul', 'ago', 'set', 'out', 'nov', 'dez']\n",
    "vendas_1sem = [25000, 29000, 22200, 17750, 15870, 19900]\n",
    "vendas_2sem = [19850, 20120, 17540, 15555, 49051, 9650]\n",
    "vendas_total = vendas_1sem + vendas_2sem\n",
    "\n",
    "i_maior_venda_ano = vendas_total.index(max(vendas_total))\n",
    "i_menor_venda_ano = vendas_total.index(min(vendas_total))\n",
    "\n",
    "print(f'A maior venda do ano foi em {meses[i_maior_venda_ano]} com R${vendas_total[i_maior_venda_ano]:_.2f} em vendas')\n",
    "print(f'A menor venda do ano foi em {meses[i_menor_venda_ano]} com R${vendas_total[i_menor_venda_ano]:_.2f} em vendas')"
   ]
  },
  {
   "cell_type": "markdown",
   "metadata": {},
   "source": [
    "## 2. Continuação\n",
    "\n",
    "Agora relacione as duas listas para printar 'O melhor mês do ano foi {} com {} vendas' e o mesmo para o pior mês do ano.\n",
    "\n",
    "Calcule também o faturamento total do Ano e quanto que o melhor mês representou do faturamento total.\n",
    "\n",
    "Obs: Para o faturamento total, pode usar a função sum(lista) que soma todos os itens de uma lista"
   ]
  },
  {
   "cell_type": "code",
   "execution_count": 10,
   "metadata": {},
   "outputs": [
    {
     "name": "stdout",
     "output_type": "stream",
     "text": [
      "O faturamento total do ano foi de R$261_486.00. \n",
      "Enquanto que o melhor mês do ano com R$49_051.00, representa 18.76%\n"
     ]
    }
   ],
   "source": [
    "faturamento_total = sum(vendas_total)\n",
    "\n",
    "print(f'O faturamento total do ano foi de R${faturamento_total:_.2f}. \\nEnquanto que o melhor mês do ano com R${vendas_total[i_maior_venda_ano]:_.2f}, representa {vendas_total[i_maior_venda_ano]/faturamento_total:.2%}')"
   ]
  },
  {
   "cell_type": "markdown",
   "metadata": {},
   "source": [
    "## 3. Crie uma lista com o top 3 valores de vendas do ano (sem fazer \"no olho\")\n",
    "\n",
    "Dica: o método remove retira um item da lista."
   ]
  },
  {
   "cell_type": "code",
   "execution_count": 21,
   "metadata": {},
   "outputs": [
    {
     "name": "stdout",
     "output_type": "stream",
     "text": [
      "Os top 3 meses do ano foram: \n",
      "nov com R$49_051.00\n",
      "fev com R$29_000.00\n",
      "jan com R$25_000.00\n"
     ]
    }
   ],
   "source": [
    "top3 = []\n",
    "top3_meses = []\n",
    "print(\"Os top 3 meses do ano foram: \")\n",
    "for i in range(3):\n",
    "    indice_maior = vendas_total.index(max(vendas_total))\n",
    "    top3.append(vendas_total.pop(indice_maior))\n",
    "    top3_meses.append(meses.pop(indice_maior))\n",
    "    print(f'{top3_meses[i]} com R${top3[i]:_.2f}')"
   ]
  }
 ],
 "metadata": {
  "kernelspec": {
   "display_name": "Python 3",
   "language": "python",
   "name": "python3"
  },
  "language_info": {
   "codemirror_mode": {
    "name": "ipython",
    "version": 3
   },
   "file_extension": ".py",
   "mimetype": "text/x-python",
   "name": "python",
   "nbconvert_exporter": "python",
   "pygments_lexer": "ipython3",
   "version": "3.9.13"
  }
 },
 "nbformat": 4,
 "nbformat_minor": 4
}
