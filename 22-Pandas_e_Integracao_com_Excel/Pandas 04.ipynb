{
 "cells": [
  {
   "cell_type": "markdown",
   "metadata": {},
   "source": [
    "# DataFrame\n",
    "\n",
    "\n",
    "## Resumo\n",
    "\n",
    "É como se fosse uma tabela.\n",
    "\n",
    "- As colunas funcionam \"como chaves de dicionário\"\n",
    "- As linhas funcionam \"como listas\"\n",
    "\n",
    "## Funcionamento"
   ]
  },
  {
   "cell_type": "raw",
   "metadata": {},
   "source": [
    "Temos um dataframe chamado vendas_df\n",
    "\n",
    "vendas_df['coluna_x'] -> uma lista com os valores da coluna_x (em formato dataframe, é um dataframe com 1 coluna só)\n",
    "vendas_df[0] -> NÃO FUNCIONA ASSIM PARA DATAFRAMES\n",
    "vendas_df[:3] -> pega até a linha de índice 3 do dataframe\n",
    "vendas_df[['coluna_x', 'coluna_y', 'coluna_z']] -> cria um novo dataframe com as colunas coluna_x, coluna_y e coluna_z\n",
    "vendas_df['coluna_x'][0] -> pega o itemd a 1ª linha da coluna coluna_x"
   ]
  },
  {
   "cell_type": "markdown",
   "metadata": {},
   "source": [
    "- Vamos ler um arquivo real, com a Base de Dados de Vendas da Empresa \"Contoso\""
   ]
  },
  {
   "cell_type": "code",
   "execution_count": 11,
   "metadata": {
    "scrolled": true
   },
   "outputs": [
    {
     "data": {
      "text/html": [
       "<div>\n",
       "<style scoped>\n",
       "    .dataframe tbody tr th:only-of-type {\n",
       "        vertical-align: middle;\n",
       "    }\n",
       "\n",
       "    .dataframe tbody tr th {\n",
       "        vertical-align: top;\n",
       "    }\n",
       "\n",
       "    .dataframe thead th {\n",
       "        text-align: right;\n",
       "    }\n",
       "</style>\n",
       "<table border=\"1\" class=\"dataframe\">\n",
       "  <thead>\n",
       "    <tr style=\"text-align: right;\">\n",
       "      <th></th>\n",
       "      <th>Numero da Venda</th>\n",
       "      <th>Data da Venda</th>\n",
       "      <th>Data do Envio</th>\n",
       "      <th>ID Canal</th>\n",
       "      <th>ID Loja</th>\n",
       "      <th>ID Produto</th>\n",
       "      <th>ID Promocao</th>\n",
       "      <th>ID Cliente</th>\n",
       "      <th>Quantidade Vendida</th>\n",
       "      <th>Quantidade Devolvida</th>\n",
       "    </tr>\n",
       "  </thead>\n",
       "  <tbody>\n",
       "    <tr>\n",
       "      <th>0</th>\n",
       "      <td>1</td>\n",
       "      <td>01/01/2017</td>\n",
       "      <td>02/01/2017</td>\n",
       "      <td>1</td>\n",
       "      <td>86</td>\n",
       "      <td>981</td>\n",
       "      <td>2</td>\n",
       "      <td>6825</td>\n",
       "      <td>9</td>\n",
       "      <td>1</td>\n",
       "    </tr>\n",
       "    <tr>\n",
       "      <th>1</th>\n",
       "      <td>2</td>\n",
       "      <td>01/01/2017</td>\n",
       "      <td>06/01/2017</td>\n",
       "      <td>5</td>\n",
       "      <td>308</td>\n",
       "      <td>1586</td>\n",
       "      <td>2</td>\n",
       "      <td>18469</td>\n",
       "      <td>9</td>\n",
       "      <td>1</td>\n",
       "    </tr>\n",
       "    <tr>\n",
       "      <th>2</th>\n",
       "      <td>3</td>\n",
       "      <td>01/01/2017</td>\n",
       "      <td>01/01/2017</td>\n",
       "      <td>0</td>\n",
       "      <td>294</td>\n",
       "      <td>1444</td>\n",
       "      <td>5</td>\n",
       "      <td>19730</td>\n",
       "      <td>13</td>\n",
       "      <td>1</td>\n",
       "    </tr>\n",
       "  </tbody>\n",
       "</table>\n",
       "</div>"
      ],
      "text/plain": [
       "   Numero da Venda Data da Venda Data do Envio  ID Canal  ID Loja  ID Produto  \\\n",
       "0                1    01/01/2017    02/01/2017         1       86         981   \n",
       "1                2    01/01/2017    06/01/2017         5      308        1586   \n",
       "2                3    01/01/2017    01/01/2017         0      294        1444   \n",
       "\n",
       "   ID Promocao  ID Cliente  Quantidade Vendida  Quantidade Devolvida  \n",
       "0            2        6825                   9                     1  \n",
       "1            2       18469                   9                     1  \n",
       "2            5       19730                  13                     1  "
      ]
     },
     "execution_count": 11,
     "metadata": {},
     "output_type": "execute_result"
    }
   ],
   "source": [
    "import pandas as pd\n",
    "\n",
    "vendas_df = pd.read_csv('Contoso - Vendas - 2017.csv', sep=';')\n",
    "\n",
    "vendas_df[:3]"
   ]
  },
  {
   "cell_type": "markdown",
   "metadata": {},
   "source": [
    "## Aplicação"
   ]
  },
  {
   "cell_type": "markdown",
   "metadata": {},
   "source": [
    "- O 1º passo de toda Análise de Dados é você entender o que existe na sua base de dados\n",
    "\n",
    "Usaremos o .info() para isso"
   ]
  },
  {
   "cell_type": "code",
   "execution_count": 13,
   "metadata": {},
   "outputs": [
    {
     "name": "stdout",
     "output_type": "stream",
     "text": [
      "<class 'pandas.core.frame.DataFrame'>\n",
      "RangeIndex: 980642 entries, 0 to 980641\n",
      "Data columns (total 10 columns):\n",
      " #   Column                Non-Null Count   Dtype \n",
      "---  ------                --------------   ----- \n",
      " 0   Numero da Venda       980642 non-null  int64 \n",
      " 1   Data da Venda         980642 non-null  object\n",
      " 2   Data do Envio         980642 non-null  object\n",
      " 3   ID Canal              980642 non-null  int64 \n",
      " 4   ID Loja               980642 non-null  int64 \n",
      " 5   ID Produto            980642 non-null  int64 \n",
      " 6   ID Promocao           980642 non-null  int64 \n",
      " 7   ID Cliente            980642 non-null  int64 \n",
      " 8   Quantidade Vendida    980642 non-null  int64 \n",
      " 9   Quantidade Devolvida  980642 non-null  int64 \n",
      "dtypes: int64(8), object(2)\n",
      "memory usage: 74.8+ MB\n"
     ]
    }
   ],
   "source": [
    "vendas_df.info()"
   ]
  },
  {
   "cell_type": "markdown",
   "metadata": {},
   "source": [
    "- Vamos criar então agora uma lista de Clientes"
   ]
  },
  {
   "cell_type": "code",
   "execution_count": 15,
   "metadata": {},
   "outputs": [
    {
     "data": {
      "text/plain": [
       "0          6825\n",
       "1         18469\n",
       "2         19730\n",
       "3         29326\n",
       "4         22617\n",
       "          ...  \n",
       "980637    10353\n",
       "980638    31750\n",
       "980639    12003\n",
       "980640    25550\n",
       "980641    28707\n",
       "Name: ID Cliente, Length: 980642, dtype: int64"
      ]
     },
     "execution_count": 15,
     "metadata": {},
     "output_type": "execute_result"
    }
   ],
   "source": [
    "vendas_df['ID Cliente']"
   ]
  },
  {
   "cell_type": "markdown",
   "metadata": {},
   "source": [
    "- Vamos criar agora uma lista com os produtos e as quantidades de vendas dele, caso a gente queira analisar só os produtos (independente de data ou de cliente)"
   ]
  },
  {
   "cell_type": "code",
   "execution_count": 18,
   "metadata": {},
   "outputs": [
    {
     "data": {
      "text/html": [
       "<div>\n",
       "<style scoped>\n",
       "    .dataframe tbody tr th:only-of-type {\n",
       "        vertical-align: middle;\n",
       "    }\n",
       "\n",
       "    .dataframe tbody tr th {\n",
       "        vertical-align: top;\n",
       "    }\n",
       "\n",
       "    .dataframe thead th {\n",
       "        text-align: right;\n",
       "    }\n",
       "</style>\n",
       "<table border=\"1\" class=\"dataframe\">\n",
       "  <thead>\n",
       "    <tr style=\"text-align: right;\">\n",
       "      <th></th>\n",
       "      <th>ID Produto</th>\n",
       "      <th>Quantidade Vendida</th>\n",
       "      <th>Quantidade Devolvida</th>\n",
       "    </tr>\n",
       "  </thead>\n",
       "  <tbody>\n",
       "    <tr>\n",
       "      <th>0</th>\n",
       "      <td>981</td>\n",
       "      <td>9</td>\n",
       "      <td>1</td>\n",
       "    </tr>\n",
       "    <tr>\n",
       "      <th>1</th>\n",
       "      <td>1586</td>\n",
       "      <td>9</td>\n",
       "      <td>1</td>\n",
       "    </tr>\n",
       "    <tr>\n",
       "      <th>2</th>\n",
       "      <td>1444</td>\n",
       "      <td>13</td>\n",
       "      <td>1</td>\n",
       "    </tr>\n",
       "    <tr>\n",
       "      <th>3</th>\n",
       "      <td>1468</td>\n",
       "      <td>6</td>\n",
       "      <td>1</td>\n",
       "    </tr>\n",
       "    <tr>\n",
       "      <th>4</th>\n",
       "      <td>1106</td>\n",
       "      <td>4</td>\n",
       "      <td>1</td>\n",
       "    </tr>\n",
       "    <tr>\n",
       "      <th>...</th>\n",
       "      <td>...</td>\n",
       "      <td>...</td>\n",
       "      <td>...</td>\n",
       "    </tr>\n",
       "    <tr>\n",
       "      <th>980637</th>\n",
       "      <td>2490</td>\n",
       "      <td>120</td>\n",
       "      <td>0</td>\n",
       "    </tr>\n",
       "    <tr>\n",
       "      <th>980638</th>\n",
       "      <td>2488</td>\n",
       "      <td>120</td>\n",
       "      <td>0</td>\n",
       "    </tr>\n",
       "    <tr>\n",
       "      <th>980639</th>\n",
       "      <td>2511</td>\n",
       "      <td>80</td>\n",
       "      <td>0</td>\n",
       "    </tr>\n",
       "    <tr>\n",
       "      <th>980640</th>\n",
       "      <td>436</td>\n",
       "      <td>39</td>\n",
       "      <td>0</td>\n",
       "    </tr>\n",
       "    <tr>\n",
       "      <th>980641</th>\n",
       "      <td>2510</td>\n",
       "      <td>80</td>\n",
       "      <td>0</td>\n",
       "    </tr>\n",
       "  </tbody>\n",
       "</table>\n",
       "<p>980642 rows × 3 columns</p>\n",
       "</div>"
      ],
      "text/plain": [
       "        ID Produto  Quantidade Vendida  Quantidade Devolvida\n",
       "0              981                   9                     1\n",
       "1             1586                   9                     1\n",
       "2             1444                  13                     1\n",
       "3             1468                   6                     1\n",
       "4             1106                   4                     1\n",
       "...            ...                 ...                   ...\n",
       "980637        2490                 120                     0\n",
       "980638        2488                 120                     0\n",
       "980639        2511                  80                     0\n",
       "980640         436                  39                     0\n",
       "980641        2510                  80                     0\n",
       "\n",
       "[980642 rows x 3 columns]"
      ]
     },
     "metadata": {},
     "output_type": "display_data"
    }
   ],
   "source": [
    "produtos_quantidade = vendas_df[['ID Produto', 'Quantidade Vendida', 'Quantidade Devolvida']]\n",
    "display(produtos_quantidade)"
   ]
  }
 ],
 "metadata": {
  "kernelspec": {
   "display_name": "Python 3",
   "language": "python",
   "name": "python3"
  },
  "language_info": {
   "codemirror_mode": {
    "name": "ipython",
    "version": 3
   },
   "file_extension": ".py",
   "mimetype": "text/x-python",
   "name": "python",
   "nbconvert_exporter": "python",
   "pygments_lexer": "ipython3",
   "version": "3.12.3"
  }
 },
 "nbformat": 4,
 "nbformat_minor": 4
}
