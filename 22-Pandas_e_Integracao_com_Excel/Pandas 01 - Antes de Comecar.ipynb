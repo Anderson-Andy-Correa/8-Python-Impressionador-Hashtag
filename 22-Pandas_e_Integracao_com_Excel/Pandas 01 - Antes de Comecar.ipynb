{
 "cells": [
  {
   "cell_type": "markdown",
   "metadata": {},
   "source": [
    "Apenas um aviso sobre não pular passos e prosseguir no ritmo indicado "
   ]
  }
 ],
 "metadata": {
  "language_info": {
   "name": "python"
  }
 },
 "nbformat": 4,
 "nbformat_minor": 2
}
