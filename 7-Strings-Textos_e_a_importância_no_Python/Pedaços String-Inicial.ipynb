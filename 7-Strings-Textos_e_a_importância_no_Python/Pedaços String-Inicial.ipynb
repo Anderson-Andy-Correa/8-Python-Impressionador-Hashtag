{
 "cells": [
  {
   "cell_type": "markdown",
   "id": "4e5fa91b",
   "metadata": {},
   "source": [
    "### Forma Básica"
   ]
  },
  {
   "cell_type": "code",
   "execution_count": 1,
   "id": "fba45682",
   "metadata": {},
   "outputs": [
    {
     "name": "stdout",
     "output_type": "stream",
     "text": [
      "Jan: 25\n",
      "Fev: 27\n",
      "Mar: 29\n",
      "Jan\n",
      "Fev\n",
      "Mar\n",
      "25\n",
      "27\n",
      "29\n"
     ]
    }
   ],
   "source": [
    "precos = \"Jan: 25, Fev: 27, Mar: 29\"\n",
    "datas = precos.split(\",\")\n",
    "for posicao, data in enumerate(datas):\n",
    "    datas[posicao] = str(data).strip()\n",
    "meses = [dado.split(\": \")[0] for dado in datas]\n",
    "dias = [dado.split(\": \")[1] for dado in datas]\n",
    "print(*datas, sep=\"\\n\")\n",
    "print(*meses, sep=\"\\n\")\n",
    "print(*dias, sep=\"\\n\")\n"
   ]
  },
  {
   "cell_type": "markdown",
   "id": "afe5dc17",
   "metadata": {},
   "source": [
    "### Posição Inicial e Final"
   ]
  },
  {
   "cell_type": "code",
   "execution_count": 4,
   "id": "c3488405",
   "metadata": {},
   "outputs": [
    {
     "name": "stdout",
     "output_type": "stream",
     "text": [
      "Jan\n",
      "Jan\n",
      "29\n",
      "29\n"
     ]
    }
   ],
   "source": [
    "print(meses[0])\n",
    "print(precos[0:3])\n",
    "\n",
    "print(dias[-1])\n",
    "print(precos[-2:])\n"
   ]
  },
  {
   "cell_type": "markdown",
   "id": "bca6dfd4",
   "metadata": {},
   "source": [
    "### Posição Inicial e Final com Step"
   ]
  },
  {
   "cell_type": "code",
   "execution_count": 10,
   "id": "981224c2",
   "metadata": {},
   "outputs": [
    {
     "name": "stdout",
     "output_type": "stream",
     "text": [
      "2345\n",
      "7432\n"
     ]
    }
   ],
   "source": [
    "codigo = \"1.2.3.4,5,1,2.3.4,7.9\"\n",
    "print(codigo[2:10:2])\n",
    "print(codigo[-3:-10:-2])\n"
   ]
  }
 ],
 "metadata": {
  "kernelspec": {
   "display_name": "Python 3 (ipykernel)",
   "language": "python",
   "name": "python3"
  },
  "language_info": {
   "codemirror_mode": {
    "name": "ipython",
    "version": 3
   },
   "file_extension": ".py",
   "mimetype": "text/x-python",
   "name": "python",
   "nbconvert_exporter": "python",
   "pygments_lexer": "ipython3",
   "version": "3.9.13"
  }
 },
 "nbformat": 4,
 "nbformat_minor": 5
}
