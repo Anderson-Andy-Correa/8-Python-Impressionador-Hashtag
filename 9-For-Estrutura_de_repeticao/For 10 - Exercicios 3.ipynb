{
 "cells": [
  {
   "cell_type": "markdown",
   "metadata": {},
   "source": [
    "# Exercícios\n",
    "\n",
    "## 1. Calculando % de uma lista\n",
    "\n",
    "Faremos algo parecido com \"filtrar\" uma lista. Mais pra frente no curso aprenderemos outras formas de fazer isso, mas com o nosso conhecimentoa atual já conseguimos resolver o desafio.\n",
    "\n",
    "Digamos que a gente tenha uma lista de vendedores e ao invés de saber todos os vendedores que bateram a meta, eu quero conseguir calcular o % de vendedores que bateram a meta. Ou seja, se temos 10 vendedores e 3 bateram a meta, temos 30% dos vendedores que bateram a meta."
   ]
  },
  {
   "cell_type": "code",
   "execution_count": 10,
   "metadata": {},
   "outputs": [
    {
     "name": "stdout",
     "output_type": "stream",
     "text": [
      "50.00% dos vendedores bateram a meta.\n",
      "Vendedores que bateram a meta: João, Julia, Ana\n"
     ]
    }
   ],
   "source": [
    "meta = 10000\n",
    "vendas = [\n",
    "    ['João', 15000],\n",
    "    ['Julia', 27000],\n",
    "    ['Marcus', 9900],\n",
    "    ['Maria', 3750],\n",
    "    ['Ana', 10300],\n",
    "    ['Alon', 7870],\n",
    "]\n",
    "#seu código aqui\n",
    "\n",
    "vendedores = []\n",
    "for venda in vendas:\n",
    "    if venda[1] >= meta:\n",
    "        vendedores.append(venda[0])\n",
    "\n",
    "print(f\"{len(vendedores) / len(vendas):.2%} dos vendedores bateram a meta.\")\n",
    "print(f\"Vendedores que bateram a meta: {', '.join(vendedores)}\")"
   ]
  },
  {
   "cell_type": "markdown",
   "metadata": {},
   "source": [
    "- Vamos resolver de 2 formas:\n",
    "    1. Criando uma lista auxiliar apenas com os vendedores que bateram a meta\n",
    "    2. Fazendo o cálculo diretamente na lista que já temos"
   ]
  },
  {
   "cell_type": "markdown",
   "metadata": {},
   "source": [
    "## Para treinar uma estrutura parecida, crie um código para responder: quem foi o vendedor que mais vendeu?"
   ]
  },
  {
   "cell_type": "code",
   "execution_count": 8,
   "metadata": {},
   "outputs": [
    {
     "name": "stdout",
     "output_type": "stream",
     "text": [
      "['Julia', 27000]\n",
      "Julia fez a maior venda do mês: R$27.000,00\n"
     ]
    }
   ],
   "source": [
    "#seu código aqui\n",
    "print(max(vendas, key=lambda x: x[1]))\n",
    "maior_venda = 0\n",
    "for venda in vendas:\n",
    "    if venda[1] > float(maior_venda):\n",
    "        maior_venda = venda[1]\n",
    "        nome = venda[0]\n",
    "maior_venda = f'{maior_venda:_.2f}'.replace('.', ',').replace('_', '.')\n",
    "print(f\"{nome} fez a maior venda do mês: R${maior_venda}\")"
   ]
  }
 ],
 "metadata": {
  "kernelspec": {
   "display_name": "Python 3",
   "language": "python",
   "name": "python3"
  },
  "language_info": {
   "codemirror_mode": {
    "name": "ipython",
    "version": 3
   },
   "file_extension": ".py",
   "mimetype": "text/x-python",
   "name": "python",
   "nbconvert_exporter": "python",
   "pygments_lexer": "ipython3",
   "version": "3.11.8"
  }
 },
 "nbformat": 4,
 "nbformat_minor": 4
}
