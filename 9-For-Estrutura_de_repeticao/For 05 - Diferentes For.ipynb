{
 "cells": [
  {
   "cell_type": "code",
   "execution_count": 3,
   "id": "f384c181",
   "metadata": {},
   "outputs": [],
   "source": [
    "produtos = [\"iphone\", \"ipad\", \"airpod\", \"macbook\"]\n",
    "precos = [7000, 10000, 2500, 14000]"
   ]
  },
  {
   "cell_type": "markdown",
   "id": "ed0a699c",
   "metadata": {},
   "source": [
    "### For item in lista"
   ]
  },
  {
   "cell_type": "code",
   "execution_count": 16,
   "id": "3053355f",
   "metadata": {},
   "outputs": [
    {
     "name": "stdout",
     "output_type": "stream",
     "text": [
      "R$ 7_700.00\n",
      "R$ 11_000.00\n",
      "R$ 2_750.00\n",
      "R$ 15_400.00\n"
     ]
    }
   ],
   "source": [
    "# preco com imposto\n",
    "for item in precos:\n",
    "    print(f'R$ {item * 1.1:_.2f}')"
   ]
  },
  {
   "cell_type": "markdown",
   "id": "80aa8d07",
   "metadata": {},
   "source": [
    "### For i in range"
   ]
  },
  {
   "cell_type": "code",
   "execution_count": 15,
   "id": "74b8e12d",
   "metadata": {},
   "outputs": [
    {
     "name": "stdout",
     "output_type": "stream",
     "text": [
      "O produto iphone R$ 7_700.00\n",
      "O produto ipad R$ 11_000.00\n",
      "O produto airpod R$ 2_750.00\n",
      "O produto macbook R$ 15_400.00\n"
     ]
    }
   ],
   "source": [
    "# preco de cada produto\n",
    "for  item in range(len(precos)):\n",
    "    print(f'O produto {produtos[item]} R$ {precos[item] * 1.1:_.2f}')"
   ]
  },
  {
   "cell_type": "markdown",
   "id": "ba0b37d3",
   "metadata": {},
   "source": [
    "### For item in lista com enumerate"
   ]
  },
  {
   "cell_type": "code",
   "execution_count": 14,
   "id": "38271545",
   "metadata": {},
   "outputs": [
    {
     "name": "stdout",
     "output_type": "stream",
     "text": [
      "O produto iphone R$ 7_700.00\n",
      "O produto ipad R$ 11_000.00\n",
      "O produto airpod R$ 2_750.00\n",
      "O produto macbook R$ 15_400.00\n"
     ]
    }
   ],
   "source": [
    "# preco de cada produto com imposto\n",
    "for pos, item in enumerate(precos):\n",
    "    print(f'O produto {produtos[pos]} R$ {item * 1.1:_.2f}')"
   ]
  }
 ],
 "metadata": {
  "kernelspec": {
   "display_name": "Python 3 (ipykernel)",
   "language": "python",
   "name": "python3"
  },
  "language_info": {
   "codemirror_mode": {
    "name": "ipython",
    "version": 3
   },
   "file_extension": ".py",
   "mimetype": "text/x-python",
   "name": "python",
   "nbconvert_exporter": "python",
   "pygments_lexer": "ipython3",
   "version": "3.11.8"
  }
 },
 "nbformat": 4,
 "nbformat_minor": 5
}
