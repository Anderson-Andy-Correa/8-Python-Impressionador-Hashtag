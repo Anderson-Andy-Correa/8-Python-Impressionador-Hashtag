{
 "cells": [
  {
   "cell_type": "markdown",
   "metadata": {},
   "source": [
    "# Formas de interromper um for\n",
    "\n",
    "### 2 Opções:\n",
    "\n",
    "- break -> interrompe e finaliza o for\n",
    "- continue -> interrompe e vai para o próximo item do for"
   ]
  },
  {
   "cell_type": "code",
   "execution_count": 2,
   "metadata": {},
   "outputs": [],
   "source": [
    "vendas = [100, 150, 1500, 2000, 120]"
   ]
  },
  {
   "cell_type": "markdown",
   "metadata": {},
   "source": [
    "- Caso 1: Se todas as vendas forem acima da meta, a loja ganha bônus"
   ]
  },
  {
   "cell_type": "code",
   "execution_count": 5,
   "metadata": {},
   "outputs": [
    {
     "name": "stdout",
     "output_type": "stream",
     "text": [
      "Venda 100 não bateu a meta\n"
     ]
    }
   ],
   "source": [
    "meta = 110\n",
    "for venda in vendas:\n",
    "    if venda < meta:\n",
    "        print(f'Venda {venda} não bateu a meta')\n",
    "        break\n",
    "    if venda == vendas[-1]:\n",
    "        print('Todas as vendas bateram a meta')\n",
    "\n",
    "\n",
    "    "
   ]
  },
  {
   "cell_type": "markdown",
   "metadata": {},
   "source": [
    "- Caso 2: Exiba quem bateu a meta"
   ]
  },
  {
   "cell_type": "code",
   "execution_count": 17,
   "metadata": {},
   "outputs": [
    {
     "name": "stdout",
     "output_type": "stream",
     "text": [
      "\u001b[1;031;mO vendedor João não bateu a meta\u001b[0;037;m\n",
      "\u001b[1;032;mO vendedor Julia bateu a meta\u001b[0;037;m\n",
      "\u001b[1;032;mO vendedor Ana bateu a meta\u001b[0;037;m\n",
      "\u001b[1;032;mO vendedor José bateu a meta\u001b[0;037;m\n",
      "\u001b[1;031;mO vendedor Maria não bateu a meta\u001b[0;037;m\n"
     ]
    }
   ],
   "source": [
    "vendedores = ['João', 'Julia', 'Ana', 'José', 'Maria']\n",
    "meta = 130\n",
    "\n",
    "for i in range(len(vendas)):\n",
    "    if vendas[i] < meta:\n",
    "        print(f'\\033[1;031;mO vendedor {vendedores[i]} não bateu a meta\\033[0;037;m')\n",
    "        continue\n",
    "    print(f'\\033[1;032;mO vendedor {vendedores[i]} bateu a meta\\033[0;037;m')\n"
   ]
  }
 ],
 "metadata": {
  "kernelspec": {
   "display_name": "Python 3",
   "language": "python",
   "name": "python3"
  },
  "language_info": {
   "codemirror_mode": {
    "name": "ipython",
    "version": 3
   },
   "file_extension": ".py",
   "mimetype": "text/x-python",
   "name": "python",
   "nbconvert_exporter": "python",
   "pygments_lexer": "ipython3",
   "version": "3.11.8"
  }
 },
 "nbformat": 4,
 "nbformat_minor": 4
}
