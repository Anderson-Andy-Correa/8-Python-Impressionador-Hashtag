{
 "cells": [
  {
   "cell_type": "markdown",
   "metadata": {},
   "source": [
    "# Exercícios\n",
    "\n",
    "## 1. Criando um Registro de Hóspedes\n",
    "\n",
    "Digamos que você está criando o sistema para registrar a chegada de hóspedes em um hotel. No hotel, os hóspedes podem ter quartos com 1, 2, 3 e 4 pessoas. Seu sistema deve conseguir:\n",
    "\n",
    "1. Identificar quantas pessoas o hóspede que acabou de chegar vai ter no quarto (perguntando por meio de input)\n",
    "2. De acordo com a quantidade de pessoas do hóspede, ele deve fazer um for para perguntar o cpf e o nome de cada pessoa, a fim de registrá-la no quarto (2 inputs para cada pessoa, 1 para o cpf e outro para o nome)\n",
    "3. O seu programa então deve gerar uma lista com todas as pessoas que ficarão no quarto em que cada item dessa lista é o nome da pessoa e o cpf da pessoa, assim:"
   ]
  },
  {
   "cell_type": "raw",
   "metadata": {},
   "source": [
    "quarto = [\n",
    "    ['João', 'cpf:00000000000'],\n",
    "    ['Julia', 'cpf:11111111111'],\n",
    "    ['Marcus', 'cpf:22222222222'],\n",
    "    ['Maria', 'cpf:33333333333'],\n",
    "]"
   ]
  },
  {
   "cell_type": "markdown",
   "metadata": {},
   "source": [
    "- Para simplificar, não vamos nos preocupar com possibilidades de \"tentar colocar mais de 1 hóspede, digitar o cpf errado, etc. Nosso objetivo é treinar a criação de uma rotina de cadastro"
   ]
  },
  {
   "cell_type": "code",
   "execution_count": 4,
   "metadata": {},
   "outputs": [
    {
     "name": "stdout",
     "output_type": "stream",
     "text": [
      "Lira foi adicionado(a) ao quarto.\n",
      "Jenifer foi adicionado(a) ao quarto.\n",
      "Hóspedes no quarto:\n",
      "Lira, CPF: 11111111111\n",
      "Jenifer, CPF: 12345678910\n"
     ]
    }
   ],
   "source": [
    "#seu código aqui\n",
    "quarto = []\n",
    "qtd_pessoas = int(input(\"Quantas pessoas estão no quarto? \"))\n",
    "for i in range(qtd_pessoas):\n",
    "    nome = input(f\"Qual o nome da {i + 1}ª pessoa? \").strip().capitalize()\n",
    "    cpf = input(f\"Qual o CPF do(a) {nome}? \").strip()\n",
    "    quarto.append([nome, cpf])\n",
    "    print(f\"{nome} foi adicionado(a) ao quarto.\")\n",
    "print(\"Hóspedes no quarto:\")\n",
    "for i in quarto:\n",
    "    print(f\"{i[0]}, CPF: {i[1]}\")"
   ]
  },
  {
   "cell_type": "markdown",
   "metadata": {},
   "source": [
    "## 2. Análise de Vendas\n",
    "\n",
    "Nesse exercício vamos fazer uma \"análise simples\" de atingimento de Meta.\n",
    "\n",
    "Temos uma lista com os vendedores e os valores de vendas e queremos identificar (printar) quais os vendedores que bateram a meta e qual foi o valor que eles venderam."
   ]
  },
  {
   "cell_type": "code",
   "execution_count": 7,
   "metadata": {},
   "outputs": [
    {
     "name": "stdout",
     "output_type": "stream",
     "text": [
      "A meta atual de vendas era de R$10_000.00.\n",
      "Vendedores que bateram a meta:\n",
      "João bateu a meta, com R$15_000.00 em vendas. Vendeu R$5_000.00 além da meta. Parabéns!\n",
      "Julia bateu a meta, com R$27_000.00 em vendas. Vendeu R$17_000.00 além da meta. Parabéns!\n",
      "Ana bateu a meta, com R$10_300.00 em vendas. Vendeu R$300.00 além da meta. Parabéns!\n"
     ]
    }
   ],
   "source": [
    "meta = 10000\n",
    "vendas = [\n",
    "    ['João', 15000],\n",
    "    ['Julia', 27000],\n",
    "    ['Marcus', 9900],\n",
    "    ['Maria', 3750],\n",
    "    ['Ana', 10300],\n",
    "    ['Alon', 7870],\n",
    "]\n",
    "#seu código aqui\n",
    "\n",
    "print(f\"A meta atual de vendas era de R${meta:_.2f}.\")\n",
    "print(\"Vendedores que bateram a meta:\")\n",
    "for i in vendas:\n",
    "    if i[1] >= meta:\n",
    "        print(f\"{i[0]} bateu a meta, com R${i[1]:_.2f} em vendas. Vendeu R${i[1] - meta:_.2f} além da meta. Parabéns!\") "
   ]
  },
  {
   "cell_type": "markdown",
   "metadata": {},
   "source": [
    "## 3. Comparação com Ano Anterior\n",
    "\n",
    "Digamos que você está analisando as vendas de produtos de um ecommerce e quer identificar quais produtos tiveram no ano de 2020 mais vendas do que no ano de 2019, para reportar isso para a diretoria.\n",
    "\n",
    "Sua resposta pode ser um print de cada produto, qual foi a venda de 2019, a venda de 2020 e o % de crescimento de 2020 para 2019.\n",
    "\n",
    "Lembrando, para calcular o % de crescimento de um produto de um ano para o outro, podemos fazer: (vendas_produto2020/vendas_produto2019 - 1)\n",
    "\n",
    "Dica: lembre do enumerate, ele pode facilitar seu \"for\""
   ]
  },
  {
   "cell_type": "code",
   "execution_count": 35,
   "metadata": {},
   "outputs": [
    {
     "name": "stdout",
     "output_type": "stream",
     "text": [
      "------------------------------------------------------------------Analise de vendas-------------------------------------------------------------------\n",
      "Iphone              : 558.147 vendidos em 2019, em 2020 951.642 vendidos. Um aumento de 70,50% unidades.\n",
      "Tv                  : 405.252 vendidos em 2019, em 2020 787.604 vendidos. Um aumento de 94,35% unidades.\n",
      "Máquina de café     : 718.654 vendidos em 2019, em 2020 867.660 vendidos. Um aumento de 20,73% unidades.\n",
      "Notebook dell       : 422.760 vendidos em 2019, em 2020 694.913 vendidos. Um aumento de 64,38% unidades.\n",
      "Notebook hp         : 154.753 vendidos em 2019, em 2020 539.704 vendidos. Um aumento de 248,75% unidades.\n",
      "Microsoft surface   : 438.508 vendidos em 2019, em 2020 667.179 vendidos. Um aumento de 52,15% unidades.\n",
      "Webcam              : 237.467 vendidos em 2019, em 2020 295.633 vendidos. Um aumento de 24,49% unidades.\n",
      "Caixa de som        : 489.705 vendidos em 2019, em 2020 725.316 vendidos. Um aumento de 48,11% unidades.\n",
      "Microfone           : 328.311 vendidos em 2019, em 2020 644.622 vendidos. Um aumento de 96,34% unidades.\n",
      "Câmera canon        : 591.120 vendidos em 2019, em 2020 994.303 vendidos. Um aumento de 68,21% unidades.\n"
     ]
    }
   ],
   "source": [
    "produtos = ['iphone', 'galaxy', 'ipad', 'tv', 'máquina de café', 'kindle', 'geladeira', 'adega', 'notebook dell', 'notebook hp', 'notebook asus', 'microsoft surface', 'webcam', 'caixa de som', 'microfone', 'câmera canon']\n",
    "vendas2019 = [558147,712350,573823,405252,718654,531580,973139,892292,422760,154753,887061,438508,237467,489705,328311,591120]\n",
    "vendas2020 = [951642,244295,26964,787604,867660,78830,710331,646016,694913,539704,324831,667179,295633,725316,644622,994303]\n",
    "#seu código aqui\n",
    "\n",
    "print(f\"{'Analise de vendas':-^150}\")\n",
    "for i in range(len(produtos)):\n",
    "    if vendas2020[i] > vendas2019[i]:\n",
    "        i_vendas2019 = f\"{vendas2019[i]:_.0f}\".replace('_', '.')\n",
    "        i_vendas2020 = f\"{vendas2020[i]:_.0f}\".replace('_', '.')\n",
    "        aumento = f\"{vendas2020[i] / vendas2019[i] - 1:_.2%}\".replace('.', ',')\n",
    "        print(f\"{produtos[i].capitalize():<20}: {i_vendas2019} vendidos em 2019, em 2020 {i_vendas2020} vendidos. Um aumento de {aumento} unidades.\")"
   ]
  }
 ],
 "metadata": {
  "kernelspec": {
   "display_name": "Python 3",
   "language": "python",
   "name": "python3"
  },
  "language_info": {
   "codemirror_mode": {
    "name": "ipython",
    "version": 3
   },
   "file_extension": ".py",
   "mimetype": "text/x-python",
   "name": "python",
   "nbconvert_exporter": "python",
   "pygments_lexer": "ipython3",
   "version": "3.11.8"
  }
 },
 "nbformat": 4,
 "nbformat_minor": 4
}
