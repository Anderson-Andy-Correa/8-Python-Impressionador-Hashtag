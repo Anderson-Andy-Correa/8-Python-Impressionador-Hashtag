{
 "cells": [
  {
   "cell_type": "markdown",
   "metadata": {},
   "source": [
    "# Cuidado com o while -> Loop Infinito\n",
    "\n",
    "Sempre que for usar o comando while, lembre-se de ter certeza que o programa vai terminar em algum momento\n",
    "\n",
    "### Exemplo\n",
    "\n",
    "Digamos que temos uma lista de vendedores e as quantidades vendidas e queremos identificar todos os vendedores que bateram a meta de 50 vendas."
   ]
  },
  {
   "cell_type": "code",
   "execution_count": 11,
   "metadata": {},
   "outputs": [
    {
     "name": "stdout",
     "output_type": "stream",
     "text": [
      "Maria      bateu a meta. Vendeu R$941.00\n",
      "José       bateu a meta. Vendeu R$852.00\n",
      "Antônio    bateu a meta. Vendeu R$783.00\n",
      "João       bateu a meta. Vendeu R$714.00\n",
      "Francisco  bateu a meta. Vendeu R$697.00\n",
      "Ana        bateu a meta. Vendeu R$686.00\n",
      "Luiz       bateu a meta. Vendeu R$685.00\n",
      "Paulo      bateu a meta. Vendeu R$670.00\n",
      "Carlos     bateu a meta. Vendeu R$631.00\n",
      "Manoel     bateu a meta. Vendeu R$453.00\n",
      "Pedro      bateu a meta. Vendeu R$386.00\n",
      "Francisca  bateu a meta. Vendeu R$371.00\n",
      "Marcos     bateu a meta. Vendeu R$294.00\n",
      "Raimundo   bateu a meta. Vendeu R$269.00\n",
      "Sebastião  bateu a meta. Vendeu R$259.00\n",
      "Antônia    bateu a meta. Vendeu R$218.00\n",
      "Marcelo    bateu a meta. Vendeu R$208.00\n",
      "Jorge      bateu a meta. Vendeu R$163.00\n",
      "Márcia     bateu a meta. Vendeu R$125.00\n",
      "Geraldo    bateu a meta. Vendeu R$102.00\n",
      "Adriana    bateu a meta. Vendeu R$87.00\n",
      "O total de vendas foi de: R$9_594.00\n"
     ]
    }
   ],
   "source": [
    "vendas = [941, 852, 783, 714, 697, 686, 685, 670, 631, 453, 386, 371, 294, 269, 259, 218, 208, 163, 125, 102, 87, 47, 7]\n",
    "vendedores = ['Maria', 'José', 'Antônio', 'João', 'Francisco', 'Ana', 'Luiz', 'Paulo', 'Carlos', 'Manoel', 'Pedro', 'Francisca', 'Marcos', 'Raimundo', 'Sebastião', 'Antônia', 'Marcelo', 'Jorge', 'Márcia', 'Geraldo', 'Adriana', 'Sandra', 'Luis']\n",
    "meta = 50\n",
    "\n",
    "vendedores_acima_da_meta = []\n",
    "vendas_acima_da_meta = []\n",
    "indice = 0\n",
    "while(True):\n",
    "    if vendas[indice] > meta:\n",
    "        vendedores_acima_da_meta.append(vendedores[indice])\n",
    "        print(f'{vendedores[indice]:10} bateu a meta. Vendeu R${vendas[indice]:_.2f}')\n",
    "        vendas_acima_da_meta.append(vendas[indice])\n",
    "    indice += 1\n",
    "    if indice == len(vendas):\n",
    "        break\n",
    "print(f'O total de vendas foi de: R${sum(vendas_acima_da_meta):_.2f}')"
   ]
  }
 ],
 "metadata": {
  "kernelspec": {
   "display_name": "Python 3",
   "language": "python",
   "name": "python3"
  },
  "language_info": {
   "codemirror_mode": {
    "name": "ipython",
    "version": 3
   },
   "file_extension": ".py",
   "mimetype": "text/x-python",
   "name": "python",
   "nbconvert_exporter": "python",
   "pygments_lexer": "ipython3",
   "version": "3.8.3"
  }
 },
 "nbformat": 4,
 "nbformat_minor": 4
}
