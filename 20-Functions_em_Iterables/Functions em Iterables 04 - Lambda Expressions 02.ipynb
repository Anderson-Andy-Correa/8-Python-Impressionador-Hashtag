{
 "cells": [
  {
   "cell_type": "markdown",
   "metadata": {},
   "source": [
    "# Principal Aplicação de Lambda Expressions\n",
    "\n",
    "### Usar lambda como argumento de alguma outra função, como map e filter"
   ]
  },
  {
   "cell_type": "code",
   "execution_count": 17,
   "metadata": {},
   "outputs": [],
   "source": [
    "preco_tecnologia = {'notebook asus': 2450, 'iphone': 4500, 'samsung galaxy': 3000, 'tv samsung': 1000, 'ps5': 3000, 'tablet': 1000, 'notebook dell': 3000, 'ipad': 3000, 'tv philco': 800, 'notebook hp': 1700}"
   ]
  },
  {
   "cell_type": "markdown",
   "metadata": {},
   "source": [
    "### map()\n",
    "- Queremos saber o preço de cada produto adicionando o valor do imposto de 30% sobre o valor do produto"
   ]
  },
  {
   "cell_type": "code",
   "execution_count": 37,
   "metadata": {},
   "outputs": [
    {
     "name": "stdout",
     "output_type": "stream",
     "text": [
      "[3185.0, 5850.0, 3900.0, 1300.0, 3900.0, 1300.0, 3900.0, 3900.0, 1040.0, 2210.0]\n"
     ]
    }
   ],
   "source": [
    "#Fazendo por function\n",
    "def colocar_imposto(preco: float) -> float:\n",
    "    return preco * 1.3\n",
    "print(list(map(colocar_imposto, preco_tecnologia.values())))"
   ]
  },
  {
   "cell_type": "code",
   "execution_count": 25,
   "metadata": {},
   "outputs": [
    {
     "name": "stdout",
     "output_type": "stream",
     "text": [
      "{'notebook asus': 3185.0, 'iphone': 5850.0, 'samsung galaxy': 3900.0, 'tv samsung': 1300.0, 'ps5': 3900.0, 'tablet': 1300.0, 'notebook dell': 3900.0, 'ipad': 3900.0, 'tv philco': 1040.0, 'notebook hp': 2210.0}\n"
     ]
    }
   ],
   "source": [
    "#fazendo por lambda\n",
    "preco_tecnologia_imposto = dict(map(lambda item: (item[0], item[1] * 1.3), preco_tecnologia.items()))\n",
    "print(preco_tecnologia_imposto)"
   ]
  },
  {
   "cell_type": "code",
   "execution_count": 35,
   "metadata": {},
   "outputs": [
    {
     "name": "stdout",
     "output_type": "stream",
     "text": [
      "{('notebook hp', 2210.0), ('notebook asus', 3185.0), ('ps5', 3900.0), ('notebook dell', 3900.0), ('iphone', 5850.0), ('tv philco', 1040.0), ('samsung galaxy', 3900.0), ('ipad', 3900.0), ('tv samsung', 1300.0), ('tablet', 1300.0)}\n"
     ]
    }
   ],
   "source": [
    "# Fazendo com Dictionary comprehension\n",
    "print({(key, value * (1 + 0.3)) for key, value in preco_tecnologia.items()})"
   ]
  },
  {
   "cell_type": "markdown",
   "metadata": {},
   "source": [
    "### filter()\n",
    "- Queremos apenas os produtos que custam acima de 2000"
   ]
  },
  {
   "cell_type": "raw",
   "metadata": {},
   "source": [
    "filter(função, iterable) -> retorna como resposta todos os itens do iterable onde a função é True"
   ]
  },
  {
   "cell_type": "code",
   "execution_count": 46,
   "metadata": {},
   "outputs": [
    {
     "name": "stdout",
     "output_type": "stream",
     "text": [
      "{'notebook asus': 3185.0, 'iphone': 5850.0, 'samsung galaxy': 3900.0, 'ps5': 3900.0, 'notebook dell': 3900.0, 'ipad': 3900.0, 'notebook hp': 2210.0}\n"
     ]
    }
   ],
   "source": [
    "#fazendo por function\n",
    "def ehmaior2000(item: tuple) -> bool:\n",
    "    return item[1] > 2000\n",
    "produtos_acima2000 = dict(filter(ehmaior2000, preco_tecnologia_imposto.items()))\n",
    "print(produtos_acima2000)\n"
   ]
  },
  {
   "cell_type": "code",
   "execution_count": 41,
   "metadata": {},
   "outputs": [
    {
     "name": "stdout",
     "output_type": "stream",
     "text": [
      "{'notebook asus': 3185.0, 'iphone': 5850.0, 'samsung galaxy': 3900.0, 'ps5': 3900.0, 'notebook dell': 3900.0, 'ipad': 3900.0, 'notebook hp': 2210.0}\n"
     ]
    }
   ],
   "source": [
    "#fazendo por lambda\n",
    "print(dict(filter(lambda item: item[1] > 2000, preco_tecnologia_imposto.items())))"
   ]
  }
 ],
 "metadata": {
  "kernelspec": {
   "display_name": "Python 3",
   "language": "python",
   "name": "python3"
  },
  "language_info": {
   "codemirror_mode": {
    "name": "ipython",
    "version": 3
   },
   "file_extension": ".py",
   "mimetype": "text/x-python",
   "name": "python",
   "nbconvert_exporter": "python",
   "pygments_lexer": "ipython3",
   "version": "3.12.3"
  }
 },
 "nbformat": 4,
 "nbformat_minor": 4
}
