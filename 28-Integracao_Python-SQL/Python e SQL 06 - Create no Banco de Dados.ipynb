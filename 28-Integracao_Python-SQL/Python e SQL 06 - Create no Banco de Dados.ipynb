{
 "cells": [
  {
   "cell_type": "markdown",
   "metadata": {},
   "source": [
    "# Desafio Python e SQL\n",
    "\n",
    "### Create"
   ]
  },
  {
   "cell_type": "code",
   "execution_count": 11,
   "metadata": {},
   "outputs": [],
   "source": [
    "import pyodbc\n",
    "\n",
    "dados_conexao = (\n",
    "    'Driver={SQLite3 ODBC Driver};'\n",
    "    'Servidor=localhost;'\n",
    "    r'Database=.\\Dados\\chinook.db;'\n",
    ")\n",
    "\n",
    "try:\n",
    "    conexao = pyodbc.connect(dados_conexao)\n",
    "    cursor = conexao.cursor()\n",
    "    cursor.execute('''\n",
    "INSERT INTO artists (Name)\n",
    "VALUES (\"Lira Noiado\")\n",
    "''')\n",
    "    cursor.execute('''\n",
    "INSERT INTO albums (Title, ArtistId)\n",
    "VALUES (\"Lira Rock\", 276)\n",
    "''')\n",
    "    cursor.commit()\n",
    "    #resultado = cursor.fetchall()\n",
    "    #display(resultado)\n",
    "finally:\n",
    "    cursor.close()\n",
    "    conexao.close()"
   ]
  }
 ],
 "metadata": {
  "kernelspec": {
   "display_name": "Python 3 (ipykernel)",
   "language": "python",
   "name": "python3"
  },
  "language_info": {
   "codemirror_mode": {
    "name": "ipython",
    "version": 3
   },
   "file_extension": ".py",
   "mimetype": "text/x-python",
   "name": "python",
   "nbconvert_exporter": "python",
   "pygments_lexer": "ipython3",
   "version": "3.12.5"
  }
 },
 "nbformat": 4,
 "nbformat_minor": 4
}
