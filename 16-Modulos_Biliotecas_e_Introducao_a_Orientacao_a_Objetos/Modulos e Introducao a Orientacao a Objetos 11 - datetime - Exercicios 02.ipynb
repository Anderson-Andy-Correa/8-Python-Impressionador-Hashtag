{
 "cells": [
  {
   "cell_type": "markdown",
   "metadata": {},
   "source": [
    "## Calculando a idade\n",
    "\n",
    "Um usuário fornece sua data de nascimento no formato \"dd/mm/aaaa\". Crie um script Python que calcula a idade do usuário.\n"
   ]
  },
  {
   "cell_type": "code",
   "execution_count": 1,
   "metadata": {},
   "outputs": [
    {
     "data": {
      "text/plain": [
       "'pt_BR.UTF-8'"
      ]
     },
     "execution_count": 1,
     "metadata": {},
     "output_type": "execute_result"
    }
   ],
   "source": [
    "import locale\n",
    "\n",
    "locale.setlocale(locale.LC_ALL, 'pt_BR.UTF-8')"
   ]
  },
  {
   "cell_type": "code",
   "execution_count": 13,
   "metadata": {},
   "outputs": [
    {
     "name": "stdout",
     "output_type": "stream",
     "text": [
      "Data inválida\n"
     ]
    }
   ],
   "source": [
    "from datetime import datetime\n",
    "\n",
    "date = input('Digite a data no formato dd/mm/aaaa: ')\n",
    "try:\n",
    "    date = datetime.strptime(date, '%d/%m/%Y')\n",
    "    now = datetime.now()\n",
    "    if date > now:\n",
    "        raise ValueError('Data inválida')\n",
    "    else:\n",
    "        # if now.month < date.month or (now.month == date.month and now.day < date.day):\n",
    "        #     idade = now.year - date.year - 1\n",
    "        # else:\n",
    "        #     idade = now.year - date.year\n",
    "        idade = (now - date).days // 365.2422 # 365 dias, 5 horas, 48 minutos e 46 segundos aproximadamente\n",
    "        print(f'Você tem {idade:.0f} anos')\n",
    "except ValueError as ve:\n",
    "    print(ve)\n",
    "    "
   ]
  }
 ],
 "metadata": {
  "kernelspec": {
   "display_name": "Python 3 (ipykernel)",
   "language": "python",
   "name": "python3"
  },
  "language_info": {
   "codemirror_mode": {
    "name": "ipython",
    "version": 3
   },
   "file_extension": ".py",
   "mimetype": "text/x-python",
   "name": "python",
   "nbconvert_exporter": "python",
   "pygments_lexer": "ipython3",
   "version": "3.11.9"
  }
 },
 "nbformat": 4,
 "nbformat_minor": 4
}
