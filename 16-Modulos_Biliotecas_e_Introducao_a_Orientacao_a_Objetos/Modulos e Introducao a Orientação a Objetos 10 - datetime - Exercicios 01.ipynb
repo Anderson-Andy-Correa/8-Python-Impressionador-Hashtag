{
 "cells": [
  {
   "cell_type": "markdown",
   "metadata": {},
   "source": [
    "## Oferecendo desconto para cliente com base na última compra\n",
    "\n",
    "Suponha que você está trabalhando para uma empresa que deseja rastrear a atividade do cliente. Uma métrica que eles estão interessados é o tempo que passou desde a última transação do cliente. Se for muito tempo, eles podem oferecer um desconto para o cliente. Crie um script Python que mostra quanto tempo se passou desde a última compra do cliente. Se faz mais de 30 dias, mostre uma mensagem oferecendo um desconto para o cliente."
   ]
  },
  {
   "cell_type": "code",
   "execution_count": 9,
   "metadata": {},
   "outputs": [
    {
     "name": "stdout",
     "output_type": "stream",
     "text": [
      "Você tem direito a um desconto de 5%\n",
      "359\n"
     ]
    }
   ],
   "source": [
    "from datetime import datetime\n",
    "\n",
    "ultima_compra = datetime(2023, 5, 10)\n",
    "agora = datetime.now()\n",
    "delta = (agora - ultima_compra).days\n",
    "if delta > 30:\n",
    "    print(\"Você tem direito a um desconto de 5%\")\n",
    "    print(delta)"
   ]
  },
  {
   "cell_type": "markdown",
   "metadata": {},
   "source": [
    "## Data e hora em diferentes fusos horários\n",
    "\n",
    "Uma empresa tem escritórios em São Paulo, Nova York e Tóquio. Crie um script Python que mostra a data e hora atuais nesses três fusos horários. Exiba, também, se estes escritórios estão abertos ou fechados (9h às 17h).\n"
   ]
  },
  {
   "cell_type": "code",
   "execution_count": 11,
   "metadata": {},
   "outputs": [
    {
     "name": "stdout",
     "output_type": "stream",
     "text": [
      "America/Sao_Paulo   : 03/05/2024 13:15:11. Bem-vindo, estamos abertos!.\n",
      "America/New_York    : 03/05/2024 12:15:11. Bem-vindo, estamos abertos!.\n",
      "Asia/Tokyo          : 04/05/2024 01:15:11. Lamentamos, estamos fechados.\n"
     ]
    }
   ],
   "source": [
    "from zoneinfo import ZoneInfo\n",
    "\n",
    "def estado_escritorio(data_hora: datetime):\n",
    "    return \"Bem-vindo, estamos abertos!.\" if 9 < data_hora.hour < 17 else \"Lamentamos, estamos fechados.\"\n",
    "\n",
    "\n",
    "sao_paulo = agora.astimezone(ZoneInfo(\"America/Sao_Paulo\"))\n",
    "nova_york = agora.astimezone(ZoneInfo(\"America/New_York\"))\n",
    "toquio    = agora.astimezone(ZoneInfo(\"Asia/Tokyo\"))\n",
    "\n",
    "escritorios = [sao_paulo, nova_york, toquio]\n",
    "\n",
    "for escritorio in escritorios:\n",
    "    print(f\"{str(escritorio.tzinfo):<20}: {escritorio.strftime('%d/%m/%Y %H:%M:%S')}. \", end=\"\")\n",
    "    print(estado_escritorio(escritorio))\n",
    "    "
   ]
  }
 ],
 "metadata": {
  "kernelspec": {
   "display_name": "Python 3 (ipykernel)",
   "language": "python",
   "name": "python3"
  },
  "language_info": {
   "codemirror_mode": {
    "name": "ipython",
    "version": 3
   },
   "file_extension": ".py",
   "mimetype": "text/x-python",
   "name": "python",
   "nbconvert_exporter": "python",
   "pygments_lexer": "ipython3",
   "version": "3.11.9"
  }
 },
 "nbformat": 4,
 "nbformat_minor": 4
}
