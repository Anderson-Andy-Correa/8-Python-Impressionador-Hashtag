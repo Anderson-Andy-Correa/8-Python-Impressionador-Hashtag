{
 "cells": [
  {
   "cell_type": "markdown",
   "metadata": {},
   "source": [
    "# Vamos aprender a trabalhar com PDF usando o Python\n",
    "\n",
    "- Regra geral: PDF foi feito justamente para bloquear muita coisa, então não é fácil \"brincar\" com um pdf\n",
    "- Mesmo assim, Python tem várias bibliotecas que vão nos ajudar, vamos focar em 2:\n",
    "    - PyPDF2\n",
    "    - Tabula\n",
    "- Ler e extrair informações de um PDF a gente consegue fazer.\n",
    "- Escrever e Editar, aí já é outra história\n",
    "\n",
    "### Para os nossos exemplos, vamos avaliar o Release de Resultados do 3º e 4º Trimestre de 2020 da Magazine Luiza"
   ]
  },
  {
   "cell_type": "markdown",
   "metadata": {},
   "source": [
    "#### 1º Objetivo: Queremos conseguir separar apenas o DRE do Release de Resultados (Página 14) para enviar para a Diretoria, como fazemos?\n",
    "    - Separar as páginas de um pdf"
   ]
  },
  {
   "cell_type": "code",
   "execution_count": 9,
   "metadata": {},
   "outputs": [],
   "source": [
    "from pathlib import Path\n",
    "import PyPDF2 as pyf\n",
    "\n",
    "CAMINHO_REFERENCIA = Path('./Python txt e PDF 10 - Dados')\n",
    "for arquivo in CAMINHO_REFERENCIA.iterdir():\n",
    "    if arquivo.is_file():\n",
    "        arquivo_PDF = pyf.PdfReader(arquivo)\n",
    "        for pos, page in enumerate(arquivo_PDF.pages, 1):\n",
    "            novo_PDF = pyf.PdfWriter()\n",
    "            novo_PDF.add_page(page)\n",
    "            with open(CAMINHO_REFERENCIA.joinpath(f\"paginas/{arquivo.name.removesuffix(arquivo.suffix)} - {pos}{arquivo.suffix}\"), 'wb') as novo_arquivo:\n",
    "                novo_PDF.write(novo_arquivo)\n"
   ]
  },
  {
   "cell_type": "markdown",
   "metadata": {},
   "source": [
    "#### 2º Objetivo: Com o Release de Resultados já separado página por página, queremos incluir apenas as Páginas de Destaque (Página 1), DRE (Página 14) e Balanço (Página 16).\n",
    "    - Juntar vários pdfs em 1"
   ]
  },
  {
   "cell_type": "code",
   "execution_count": 10,
   "metadata": {},
   "outputs": [],
   "source": [
    "from pathlib import Path\n",
    "import PyPDF2 as pyf\n",
    "\n",
    "CAMINHO_REFERENCIA = Path('./Python txt e PDF 10 - Dados/paginas')\n",
    "num_paginas = [1, 14, 16]\n",
    "novo_PDF = pyf.PdfWriter()\n",
    "nome_referencia = 'MGLU_ER_3T20_POR'\n",
    "paginas = ''\n",
    "for numero in num_paginas:\n",
    "    arquivo_PDF = pyf.PdfReader(CAMINHO_REFERENCIA.joinpath(f'{nome_referencia} - {numero}.pdf'))\n",
    "    novo_PDF.add_page(arquivo_PDF.pages[0])\n",
    "    paginas += f'{numero}_'\n",
    "if len(paginas) > 0:\n",
    "    paginas = paginas[:-1]\n",
    "with open(CAMINHO_REFERENCIA.joinpath(f\"{nome_referencia} - {paginas}.pdf\"), 'wb') as novo_arquivo:\n",
    "                novo_PDF.write(novo_arquivo)"
   ]
  },
  {
   "cell_type": "markdown",
   "metadata": {},
   "source": [
    "### Extra: Para adicionar todas as páginas de 2 pdfs"
   ]
  },
  {
   "cell_type": "code",
   "execution_count": 12,
   "metadata": {},
   "outputs": [],
   "source": [
    "from pathlib import Path\n",
    "import PyPDF2 as pyf\n",
    "\n",
    "pdf_mesclado = pyf.PdfMerger()\n",
    "CAMINHO_REFERENCIA = Path('./Python txt e PDF 10 - Dados')\n",
    "for arquivo in CAMINHO_REFERENCIA.iterdir():\n",
    "    if arquivo.is_file():\n",
    "        pdf_mesclado.append(arquivo)\n",
    "with open(CAMINHO_REFERENCIA.joinpath(f\"Arquivo Mesclado.pdf\"), 'wb') as novo_arquivo:\n",
    "    pdf_mesclado.write(novo_arquivo)\n"
   ]
  },
  {
   "cell_type": "markdown",
   "metadata": {},
   "source": [
    "# Funcionalidades que podem ser úteis:\n",
    "\n",
    "- Inserir arquivo no meio do outro\n",
    "- Quero colocar dentro do Resultado do 4T20 os destaques do 3T20 para poder comparar os 2 dentro do mesmo relatório"
   ]
  },
  {
   "cell_type": "code",
   "execution_count": 2,
   "metadata": {},
   "outputs": [],
   "source": [
    "from pathlib import Path\n",
    "import PyPDF2 as pyf\n",
    "\n",
    "pdf_mesclado = pyf.PdfMerger()\n",
    "CAMINHO_REFERENCIA = Path('./Python txt e PDF 10 - Dados')\n",
    "pdf_mesclado.append(CAMINHO_REFERENCIA.joinpath('MGLU_ER_4T20_POR.pdf'))\n",
    "pdf_mesclado.merge(1, CAMINHO_REFERENCIA.joinpath('paginas/MGLU_ER_3T20_POR - 1.pdf'))\n",
    "\n",
    "with open(CAMINHO_REFERENCIA.joinpath(f\"Relatorio 2 Trimestres.pdf\"), 'wb') as novo_arquivo:\n",
    "    pdf_mesclado.write(novo_arquivo)\n"
   ]
  },
  {
   "cell_type": "markdown",
   "metadata": {},
   "source": [
    "- Rodar Página"
   ]
  },
  {
   "cell_type": "code",
   "execution_count": 2,
   "metadata": {},
   "outputs": [],
   "source": [
    "from pathlib import Path\n",
    "import PyPDF2 as pyf\n",
    "\n",
    "CAMINHO_REFERENCIA = Path('./Python txt e PDF 10 - Dados')\n",
    "arquivo_PDF = pyf.PdfReader(CAMINHO_REFERENCIA.joinpath(f\"MGLU_ER_3T20_POR.pdf\"))\n",
    "novo_PDF = pyf.PdfWriter()\n",
    "for page in arquivo_PDF.pages:\n",
    "    page.rotate(90)\n",
    "    novo_PDF.add_page(page)\n",
    "with open(CAMINHO_REFERENCIA.joinpath(f\"Paginas Rotacionadas.pdf\"), 'wb') as novo_arquivo:\n",
    "    novo_PDF.write(novo_arquivo)\n"
   ]
  },
  {
   "cell_type": "markdown",
   "metadata": {},
   "source": [
    "# Trabalhando com Textos e Informações Dentro do PDF\n",
    "\n",
    "#### 1º Objetivo: Quero identificar como foram as Despesas com Vendas da MGLU\n",
    "    - Pegar texto da página e identificar onde está essa informação"
   ]
  },
  {
   "cell_type": "code",
   "execution_count": 20,
   "metadata": {},
   "outputs": [
    {
     "name": "stdout",
     "output_type": "stream",
     "text": [
      "| Despesas com Vendas  \n",
      " \n",
      "No 3T20, as despesas com vendas totalizaram R$1.432,6 milhões, equivalentes a 17,2% da receita líquida, 1,1 p.p. menor que no \n",
      "3T19 , principalmente devido ao forte crescimento das vendas . Vale ressaltar que a Companhia conseguiu diluir as despesas com \n",
      "vendas m esmo investi ndo em maior nível de serviço,  especialmente em  atendimento e logística.  \n",
      " \n",
      "Nos 9M20, as despesas com vendas totalizaram R$3.487,2 milhões, equivalentes a 18,2% da receita líquida (+1,1 p.p. versus  os \n",
      "9M19).  \n",
      " \n",
      "| Despesas Gerais e Administrativas   \n",
      " \n",
      "No 3T20, as despesas gerais e administrativas totalizaram R$240,7 milhões, equivalentes a 2,9% da receita líquida, uma reduçã o \n",
      "de 1,4 p.p. em relação ao 3T19 devido, principalm ente, ao forte crescimento das vendas.   \n",
      " \n",
      "Nos 9M20, as despesas gerais e admini strativas totalizaram R$617,3 milhões, equivalentes a 3,2% da receita líquida.  \n",
      " \n",
      "| Perdas em Créditos de Liquidação Duvidosa  \n",
      " \n",
      "As provisões para perdas em crédito de liquidação duvidosa totalizaram R$25,4 milhões no 3T20 e R$84,5 nos 9M20.  \n",
      " \n",
      "| Outras Receitas e Despesas Operacionais, Líquidas  \n",
      " \n",
      "R$ milhões  3T20  % RL  3T19  % RL  Var(%)  9M20  % RL  9M19  % RL  Var(%)  \n",
      " Ganho (Perda) na Venda de Ativo Imobilizado               (0,0)  0,0%                1,5  0,0%  -102,0%              (1,9)  0,0%                4,4  0,0%  -143,2%  \n",
      " Apropriação de Receita Diferida               15,2  0,2%               13,8  0,3%  10,3%               42,9  0,2%               39,5  0,3%  8,6%  \n",
      " Subtotal - Ajustado               15,2  0,2%               15,3  0,3%  -0,6%               41,0  0,2%               44,0  0,3%  -6,8%  \n",
      " Créditos tributários                  0,3  0,0%            240,8  5,0%  -99,9%               56,6  0,3%            812,0  6,0%  -93,0%  \n",
      " Provisão para riscos tributários               (0,2)  0,0%            (16,7)  -0,3%  -98,8%               33,6  0,2%          (246,7)  -1,8%  -113,6%  \n",
      " Honorários especialistas                (4,3)  -0,1%            (28,8)  -0,6%  -85,0%            (19,8)  -0,1%          (144,0)  -1,1%  -86,3%  \n",
      " Despesas pré -operacionais de lojas               (3,2)  0,0%            (12,1)  -0,2%  -73,8%              (7,1)  0,0%            (20,3)  -0,2%  -65,0%  \n",
      " Outras despesas não -recorrentes                (7,8)  -0,1%            (15,6)  -0,3%  -50,3%            (23,2)  -0,1%            (52,1)  -0,4%  -55,5%  \n",
      " Subtotal - Não Recorrente             (15,1)  -0,2%            167,7  3,4%  -109,0%               40,2  0,2%            348,9  2,6%  -88,5%  \n",
      " Total                  0,1  0,0%            183,0  3,8%  -100,0%               81,2  0,4%            392,9  2,9%  -79,3%  \n",
      " \n",
      "No 3T20, as outras receitas operacionais líquidas ajustadas totalizaram R$15,2 milhões, influenciadas principalmente pela \n",
      "apropriação de receitas diferidas no montante de R$15,2 milhões. Nos 9M20, as outras receitas operacionais líquidas ajustadas \n",
      "totalizaram R$41,0 milhões.  \n",
      " \n",
      "| Equivalência Patrimonial  \n",
      " \n",
      "No 3T20, o resultado da equivalência patrimonial foi R$65,9 milhões, composto da seguinte forma: (i) o desempenho da \n",
      "Luizacred, responsável pela equivalência de R$58,8  milhões e (ii) a Luizaseg, responsável pela equivalência de R$7,1 milhões. Nos \n",
      "9M20, o resultado da equivalência patrimonial foi R$95,8 milhões.  \n",
      " \n",
      "\n"
     ]
    }
   ],
   "source": [
    "from pathlib import Path\n",
    "import PyPDF2 as pyf\n",
    "\n",
    "texto_referencia = \"| Despesas com Vendas\"\n",
    "\n",
    "CAMINHO_REFERENCIA = Path('./Python txt e PDF 10 - Dados')\n",
    "arquivo_PDF = pyf.PdfReader(CAMINHO_REFERENCIA.joinpath(f\"MGLU_ER_3T20_POR.pdf\"))\n",
    "\n",
    "for pos, pagina in enumerate(arquivo_PDF.pages, 1):\n",
    "    texto_pagina = pagina.extract_text()\n",
    "    if texto_referencia in texto_pagina:\n",
    "        texto_analisar = texto_pagina\n",
    "\n",
    "inicio_texto = texto_analisar.find(texto_referencia)\n",
    "final_texto = texto_analisar.find(\"|\", )\n",
    "print(texto_analisar[inicio_texto:final_texto])\n",
    "\n",
    "\n"
   ]
  },
  {
   "cell_type": "markdown",
   "metadata": {},
   "source": [
    "#### 2º Objetivo: Quero analisar o DRE (sem ajuste - Página 5)\n",
    "    - Para ler tabelas em pdf, use o tabula (é ninja)\n",
    "    \n",
    "    - Cuidado 1: Instale o tabula-py (não instale o tabula). Se instalar o tabula errado, desinstale ele, instale o tabula-py, desinstale o tabula-py e instale novamente o tabula-py. Reinicie o kernel do Jupyter após isso\n",
    "    \n",
    "    - Cuidado 2: Tem que ter o java instalado no seu computador (depois de instalar, reinicie o computador)"
   ]
  },
  {
   "cell_type": "code",
   "execution_count": null,
   "metadata": {},
   "outputs": [],
   "source": []
  },
  {
   "cell_type": "markdown",
   "metadata": {},
   "source": [
    "#### 3º Objetivo: Quero analisar o Capital de Giro e os Investimentos (ambas as tabelas na página 12)\n",
    "    - Páginas com mais de 1 tabela"
   ]
  },
  {
   "cell_type": "code",
   "execution_count": null,
   "metadata": {},
   "outputs": [],
   "source": []
  },
  {
   "cell_type": "markdown",
   "metadata": {},
   "source": [
    "#### O que fazer quando o tabula não consegue ler alguma linha da tabela? Como o cabeçalho, no nosso caso?"
   ]
  },
  {
   "cell_type": "code",
   "execution_count": null,
   "metadata": {},
   "outputs": [],
   "source": []
  },
  {
   "cell_type": "markdown",
   "metadata": {},
   "source": [
    "# Outro método que pode ser útil algum dia: Captar Imagem em um pdf\n",
    "    - biblioteca pikepdf"
   ]
  },
  {
   "cell_type": "code",
   "execution_count": null,
   "metadata": {},
   "outputs": [],
   "source": []
  },
  {
   "cell_type": "markdown",
   "metadata": {},
   "source": [
    "# Substituir texto no pdf tipo contrato\n",
    "\n",
    "- Não recomendo fazer diretamente pelo Python. Realmente do que vi a melhor opção me parece o Word fazer isso\n",
    "- Caso precise automatizar, automatize o processo fazendo ele pelo Word\n",
    "- Quem quiser MUITO fazer isso pelo Python, tem um link aqui que vai te ajudar de uma solução que achei que funciona. Tem seus bugs/cuidados especiais, mas funciona: https://pdf.co/samples/pdf-co-web-api-replace-text-from-pdf-python-replace-text-from-url"
   ]
  }
 ],
 "metadata": {
  "kernelspec": {
   "display_name": "Python 3 (ipykernel)",
   "language": "python",
   "name": "python3"
  },
  "language_info": {
   "codemirror_mode": {
    "name": "ipython",
    "version": 3
   },
   "file_extension": ".py",
   "mimetype": "text/x-python",
   "name": "python",
   "nbconvert_exporter": "python",
   "pygments_lexer": "ipython3",
   "version": "3.12.5"
  }
 },
 "nbformat": 4,
 "nbformat_minor": 4
}
