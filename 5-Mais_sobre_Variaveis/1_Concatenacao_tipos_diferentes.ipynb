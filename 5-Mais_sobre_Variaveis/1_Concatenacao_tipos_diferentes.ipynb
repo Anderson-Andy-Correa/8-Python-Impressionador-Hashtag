{
 "cells": [
  {
   "cell_type": "code",
   "execution_count": 2,
   "metadata": {},
   "outputs": [
    {
     "name": "stdout",
     "output_type": "stream",
     "text": [
      "O faturamento da loja foi de R$100.00 e o custo foi de R$1,000.00.\n",
      "A loja teve um prejuízo de R$-900.00.\n"
     ]
    }
   ],
   "source": [
    "faturamento = float(input(\"Insira o valor do faturamento da loja: R$\"))\n",
    "custo = float(input(\"Insira o valor do custo da loja: R$\"))\n",
    "lucro = faturamento - custo\n",
    "\n",
    "print(f\"O faturamento da loja foi de R${faturamento:,.2f} e o custo foi de R${custo:,.2f}.\")\n",
    "print(f\"Então o lucro foi de R${lucro:,.2f}.\") if lucro > 0 else print(f\"A loja teve um prejuízo de R${lucro:,.2f}.\")"
   ]
  }
 ],
 "metadata": {
  "kernelspec": {
   "display_name": "Python 3",
   "language": "python",
   "name": "python3"
  },
  "language_info": {
   "codemirror_mode": {
    "name": "ipython",
    "version": 3
   },
   "file_extension": ".py",
   "mimetype": "text/x-python",
   "name": "python",
   "nbconvert_exporter": "python",
   "pygments_lexer": "ipython3",
   "version": "3.11.7"
  }
 },
 "nbformat": 4,
 "nbformat_minor": 2
}
