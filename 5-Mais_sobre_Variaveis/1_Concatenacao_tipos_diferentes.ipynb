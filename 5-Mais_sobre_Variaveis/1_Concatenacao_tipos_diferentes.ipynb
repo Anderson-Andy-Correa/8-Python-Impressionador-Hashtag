faturamento = 1000

print('O faturamento da loja foi ' + faturamento)