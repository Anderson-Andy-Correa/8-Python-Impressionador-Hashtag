{
 "cells": [
  {
   "cell_type": "markdown",
   "metadata": {},
   "source": [
    "# Exercícios com if"
   ]
  },
  {
   "cell_type": "markdown",
   "metadata": {},
   "source": [
    "## 1. Cálculo de Bônus\n",
    "\n",
    "- Crie um programa que calcule e dê um print no bônus que os funcionários devem receber segundo a regra:\n",
    "\n",
    "A meta é 1000 vendas.<br> \n",
    "Se o valor de vendas for maior ou igual a meta, o valor do bônus do funcionário é 10% do valor de vendas.<br>\n",
    "Caso contrário o valor de bônus do funcionário é 0.<br>\n",
    "Print o bônus dos 3 funcionários"
   ]
  },
  {
   "cell_type": "code",
   "execution_count": 3,
   "metadata": {},
   "outputs": [
    {
     "name": "stdout",
     "output_type": "stream",
     "text": [
      "Bonus Funcionário 01 = R$100.00\n",
      "Bonus Funcionário 02 = R$0.00\n",
      "Bonus Funcionário 03 = R$270.00\n"
     ]
    }
   ],
   "source": [
    "vendas_funcionario1 = 1000\n",
    "vendas_funcionario2 = 770\n",
    "vendas_funcionario3 = 2700\n",
    "\n",
    "#crie seu código aqui\n",
    "metaVendas = 1_000\n",
    "\n",
    "bonusFuncionario1 = vendas_funcionario1 * 0.10 if vendas_funcionario1 >= metaVendas else 0\n",
    "bonusFuncionario2 = vendas_funcionario2 * 0.10 if vendas_funcionario2 >= metaVendas else 0\n",
    "bonusFuncionario3 = vendas_funcionario3 * 0.10 if vendas_funcionario3 >= metaVendas else 0\n",
    "\n",
    "print(f\"Bonus Funcionário 01 = R${bonusFuncionario1:,.2f}\")\n",
    "print(f\"Bonus Funcionário 02 = R${bonusFuncionario2:,.2f}\")\n",
    "print(f\"Bonus Funcionário 03 = R${bonusFuncionario3:,.2f}\")"
   ]
  },
  {
   "cell_type": "raw",
   "metadata": {},
   "source": [
    "Resposta:\n",
    "O funcionário 1 ganhou 100 de bônus\n",
    "O funcionário 2 ganhou 0 de bônus\n",
    "O funcionário 3 ganhou 270 de bônus"
   ]
  },
  {
   "cell_type": "markdown",
   "metadata": {},
   "source": [
    "## 2. Cálculo de bônus com uma nova regra\n",
    "\n",
    "- Agora, crie um novo código que calcule e dê um print no bônus dos funcionários novamente. Porém há uma nova regra nesse 2º caso:\n",
    "\n",
    "A meta é 1000 vendas<br>\n",
    "Agora, os funcionários que venderem muito acima da meta ganham mais bônus do que os outros. Então o bônus é definido da seguinte forma:<br>\n",
    "\n",
    "- Se vendas funcionário for maior ou igual a 2000, então o bônus é de 15% sobre o valor de vendas\n",
    "- Se vendas funcionário for menor do que 2000 e maior ou igual a 1000, então o bônus é de 10% sobre o valor de vendas\n",
    "- Se vendas funcionário for menos do que 1000 então o bônus do funcionário é de 0.\n",
    "\n",
    "Use as mesmas variáveis de vendas_funcionários"
   ]
  },
  {
   "cell_type": "code",
   "execution_count": 6,
   "metadata": {},
   "outputs": [
    {
     "name": "stdout",
     "output_type": "stream",
     "text": [
      "Bonus Funcionário 01 = R$100.00\n",
      "Bonus Funcionário 02 = R$0.00\n",
      "Bonus Funcionário 03 = R$405.00\n"
     ]
    }
   ],
   "source": [
    "#crie seu código aqui\n",
    "#obs: há 2 formas de fazer, com if dentro de if ou então com if e elif. Escolha a que você preferir\n",
    "metaVendasSuper = 2000\n",
    "metaVendasNormal = 1000\n",
    "\n",
    "bonusFuncionario1 = vendas_funcionario1 * 0.15 if vendas_funcionario1 >= metaVendasSuper else vendas_funcionario1 * 0.10 if vendas_funcionario1 >= metaVendasNormal else 0\n",
    "bonusFuncionario2 = vendas_funcionario2 * 0.15 if vendas_funcionario2 >= metaVendasSuper else vendas_funcionario2 * 0.10 if vendas_funcionario2 >= metaVendasNormal else 0\n",
    "bonusFuncionario3 = vendas_funcionario3 * 0.15 if vendas_funcionario3 >= metaVendasSuper else vendas_funcionario3 * 0.10 if vendas_funcionario3 >= metaVendasNormal else 0\n",
    "\n",
    "print(f\"Bonus Funcionário 01 = R${bonusFuncionario1:,.2f}\")\n",
    "print(f\"Bonus Funcionário 02 = R${bonusFuncionario2:,.2f}\")\n",
    "print(f\"Bonus Funcionário 03 = R${bonusFuncionario3:,.2f}\")"
   ]
  },
  {
   "cell_type": "raw",
   "metadata": {},
   "source": [
    "Resposta:\n",
    "O funcionário 1 ganhou 100 de bônus\n",
    "O funcionário 2 ganhou 0 de bônus\n",
    "O funcionário 3 ganhou 405 de bônus"
   ]
  }
 ],
 "metadata": {
  "kernelspec": {
   "display_name": "Python 3",
   "language": "python",
   "name": "python3"
  },
  "language_info": {
   "codemirror_mode": {
    "name": "ipython",
    "version": 3
   },
   "file_extension": ".py",
   "mimetype": "text/x-python",
   "name": "python",
   "nbconvert_exporter": "python",
   "pygments_lexer": "ipython3",
   "version": "3.9.13"
  }
 },
 "nbformat": 4,
 "nbformat_minor": 4
}
