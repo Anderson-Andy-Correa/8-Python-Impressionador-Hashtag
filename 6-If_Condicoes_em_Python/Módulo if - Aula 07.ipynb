{
 "cells": [
  {
   "cell_type": "markdown",
   "metadata": {},
   "source": [
    "# Comparações Contraintuitivas\n",
    "\n",
    "Existem algumas comparações no Python que não são tão intuitivas quando vemos pela primeira vez, mas que são muito usadas, principalmente por programadores mais experientes.\n",
    "\n",
    "É bom sabermos alguns exemplos e buscar sempre entender o que aquela comparação está buscando verificar.\n",
    "\n",
    "### Exemplo 1:\n",
    "\n",
    "Digamos que você está construindo um sistema de controle de vendas e precisa de algumas informações para fazer o cálculo do resultado da loja no fim de um mês."
   ]
  },
  {
   "cell_type": "code",
   "execution_count": 35,
   "metadata": {},
   "outputs": [
    {
     "ename": "ValueError",
     "evalue": "invalid literal for int() with base 10: ''",
     "output_type": "error",
     "traceback": [
      "\u001b[1;31m---------------------------------------------------------------------------\u001b[0m",
      "\u001b[1;31mValueError\u001b[0m                                Traceback (most recent call last)",
      "Cell \u001b[1;32mIn[35], line 9\u001b[0m\n\u001b[0;32m      6\u001b[0m         \u001b[38;5;28;01melse\u001b[39;00m:\n\u001b[0;32m      7\u001b[0m             \u001b[38;5;28mprint\u001b[39m(\u001b[38;5;124m\"\u001b[39m\u001b[38;5;124mPor favor, insira um valor válido!\u001b[39m\u001b[38;5;124m\"\u001b[39m)\n\u001b[1;32m----> 9\u001b[0m faturamento \u001b[38;5;241m=\u001b[39m \u001b[43msolicitar_numero\u001b[49m\u001b[43m(\u001b[49m\u001b[38;5;124;43m'\u001b[39;49m\u001b[38;5;124;43mQual foi o faturamento da loja nesse mês?\u001b[39;49m\u001b[38;5;124;43m'\u001b[39;49m\u001b[43m)\u001b[49m\n\u001b[0;32m     10\u001b[0m custo \u001b[38;5;241m=\u001b[39m solicitar_numero(\u001b[38;5;124m'\u001b[39m\u001b[38;5;124mQual foi o custo da loja nesse mês?\u001b[39m\u001b[38;5;124m'\u001b[39m)\n\u001b[0;32m     12\u001b[0m lucro \u001b[38;5;241m=\u001b[39m \u001b[38;5;28mint\u001b[39m(faturamento) \u001b[38;5;241m-\u001b[39m \u001b[38;5;28mint\u001b[39m(custo)\n",
      "Cell \u001b[1;32mIn[35], line 5\u001b[0m, in \u001b[0;36msolicitar_numero\u001b[1;34m(mensagem)\u001b[0m\n\u001b[0;32m      3\u001b[0m valor \u001b[38;5;241m=\u001b[39m \u001b[38;5;28minput\u001b[39m(mensagem)\n\u001b[0;32m      4\u001b[0m \u001b[38;5;28;01mif\u001b[39;00m valor\u001b[38;5;241m.\u001b[39misdecimal:\n\u001b[1;32m----> 5\u001b[0m     \u001b[38;5;28;01mreturn\u001b[39;00m \u001b[38;5;28;43mint\u001b[39;49m\u001b[43m(\u001b[49m\u001b[43mvalor\u001b[49m\u001b[43m)\u001b[49m \u001b[38;5;28;01mif\u001b[39;00m valor\u001b[38;5;241m.\u001b[39misdigit \u001b[38;5;28;01melse\u001b[39;00m \u001b[38;5;28mfloat\u001b[39m(valor)\n\u001b[0;32m      6\u001b[0m \u001b[38;5;28;01melse\u001b[39;00m:\n\u001b[0;32m      7\u001b[0m     \u001b[38;5;28mprint\u001b[39m(\u001b[38;5;124m\"\u001b[39m\u001b[38;5;124mPor favor, insira um valor válido!\u001b[39m\u001b[38;5;124m\"\u001b[39m)\n",
      "\u001b[1;31mValueError\u001b[0m: invalid literal for int() with base 10: ''"
     ]
    }
   ],
   "source": [
    "def solicitar_numero(mensagem):\n",
    "    while(True):\n",
    "        valor = input(mensagem)\n",
    "        if valor.isdecimal:\n",
    "            return int(valor) if valor.isdigit else float(valor)\n",
    "        else:\n",
    "            print(\"Por favor, insira um valor válido!\")\n",
    "\n",
    "faturamento = solicitar_numero('Qual foi o faturamento da loja nesse mês?')\n",
    "custo = solicitar_numero('Qual foi o custo da loja nesse mês?')\n",
    "\n",
    "lucro = int(faturamento) - int(custo)\n",
    "\n",
    "print(\"O lucro da loja foi de {} reais\".format(lucro))"
   ]
  },
  {
   "cell_type": "markdown",
   "metadata": {},
   "source": [
    "## Resumo\n",
    "\n",
    "Algumas comparações contraintuitivas muito usadas:\n",
    "\n",
    "If 0:\n",
    "\n",
    "If '':\n",
    "\n",
    "Temos outras também, mas que são usadas para verificar listas vazias, dicionários vazios, objetos vazios e assim vai. Quando chegarmos nesses módulos vamos relembrar esse conceito, mas o importante é saber dessa possibilidade e entender seu uso."
   ]
  }
 ],
 "metadata": {
  "kernelspec": {
   "display_name": "Python 3",
   "language": "python",
   "name": "python3"
  },
  "language_info": {
   "codemirror_mode": {
    "name": "ipython",
    "version": 3
   },
   "file_extension": ".py",
   "mimetype": "text/x-python",
   "name": "python",
   "nbconvert_exporter": "python",
   "pygments_lexer": "ipython3",
   "version": "3.9.13"
  }
 },
 "nbformat": 4,
 "nbformat_minor": 4
}
