{
 "cells": [
  {
   "cell_type": "markdown",
   "metadata": {},
   "source": [
    "# Casos com várias condições/comparações\n",
    "\n",
    "### Estrutura:\n",
    "\n",
    "Quando temos várias comparações, ao invés de criar if dentro de if podemos usar os operadores \"and\" e \"or\" para tratar essas condições.\n",
    "\n",
    "Funciona assim:"
   ]
  },
  {
   "cell_type": "raw",
   "metadata": {},
   "source": [
    "if condicao_1 and condicao_2:\n",
    "    vai ser executado se as 2 condições forem verdadeiras ao mesmo tempo\n",
    "\n",
    "outro caso:\n",
    "\n",
    "if condicao_1 or condicao_2:\n",
    "    vai ser executado se pelo menos uma das condições forem verdadeiras"
   ]
  },
  {
   "cell_type": "markdown",
   "metadata": {},
   "source": [
    "### Exemplo\n",
    "\n",
    "Vamos voltar ao exemplo de cálculo de meta de vendas dos funcionários. Muitas empresas atribuem bonificação do salário dos funcionários de acordo com o resultado do funcionário e também com o resultado da empresa como um todo.\n",
    "\n",
    "Nesse caso, a regra funciona da seguinte forma:\n",
    "- Se o funcionário vendeu mais do que a meta de vendas e a loja bateu a meta de vendas da loja, o funcionário ganha 3% do que ele vendeu em forma de bônus.\n",
    "- Caso o funcionário tenha batido a meta de vendas individual dele, mas a loja não tenha batido a meta de vendas da loja como um todo, o funcionário não ganha bônus."
   ]
  },
  {
   "cell_type": "code",
   "execution_count": 18,
   "metadata": {},
   "outputs": [
    {
     "name": "stdout",
     "output_type": "stream",
     "text": [
      "Parabéns Louis, você atingiu a meta de vendas!\n",
      "Mas infelizmente a loja não bateu a meta de vendas. \n",
      "Não haverá comissões.\n"
     ]
    }
   ],
   "source": [
    "funcionario = \"Louis\"\n",
    "metaVendas = 20_000\n",
    "vendas = 50_000\n",
    "metaVendasLoja = 150_000\n",
    "vendasLoja = 50_000\n",
    "comissao = 0\n",
    "\n",
    "if vendas >= metaVendas:\n",
    "    print(f\"Parabéns {funcionario}, você atingiu a meta de vendas!\")\n",
    "    if vendasLoja >= metaVendasLoja:\n",
    "        print(\"E a loja também bateu a metas de vendas! \\nAproveite a sua comissão.\")\n",
    "        comissao = 0.03\n",
    "    else:\n",
    "        print(\"Mas infelizmente a loja não bateu a meta de vendas. \\nNão haverá comissões.\")\n",
    "else:\n",
    "    print(f\"{funcionario}, você não atingiu a meta de vendas!\")\n",
    "\n",
    "salario = vendas * (1 + comissao)\n"
   ]
  },
  {
   "cell_type": "markdown",
   "metadata": {},
   "source": [
    "### Outro exemplo\n",
    "\n",
    "Agora vamos levar essa análise mais a fundo.\n",
    "\n",
    "Nessa empresa, existe um outro caso também que garante que o funcionário ganhe um bônus, independente das vendas que ele fez naquele mês.\n",
    "\n",
    "Todo mês os diretores da empresa fazem uma avaliação qualitativa de todos os funcionários. Nessa avaliação os diretores dão uma nota de 0 a 10 para cada funcionário. Se a nota do funcionário for 9 ou 10, ele também ganha o bônus de 3% do valor de vendas. (os bônus não são cumulativos)"
   ]
  },
  {
   "cell_type": "code",
   "execution_count": 19,
   "metadata": {},
   "outputs": [
    {
     "name": "stdout",
     "output_type": "stream",
     "text": [
      "Devido aos seus esforços, estamos lhe consedendo um bónus de qualificação. \n",
      "Aproveite!\n",
      "----------------------------------------\n",
      "Vendas da Loja: R$ 50,000.00\n",
      "Meta de Vendas da Loja: R$ 150,000.00\n",
      "----------------------------------------\n",
      "Vendas: R$ 50,000.00\n",
      "Meta de Vendas: R$ 20,000.00\n",
      "Comissão: R$ 0.00\n",
      "Bônus: R$ 1,500.00\n",
      "----------------------------------------\n",
      "Salário: R$ 51,500.00\n"
     ]
    }
   ],
   "source": [
    "notaQualitativa = -1\n",
    "while 0 > notaQualitativa or notaQualitativa > 10:\n",
    "    notaQualitativa = int(input(f\"Qual a nota do funcionário {funcionario}? \"))\n",
    "\n",
    "metaNota = 9\n",
    "bonusQualitativo = 0\n",
    "\n",
    "if notaQualitativa >= metaNota and comissao == 0:\n",
    "    bonusQualitativo = 0.03\n",
    "    salario = vendas * (1 + bonusQualitativo)\n",
    "    print(f\"Devido aos seus esforços, estamos lhe consedendo um bónus de qualificação. \\nAproveite!\")\n",
    "\n",
    "separador = 40\n",
    "print(\"-\" * separador)\n",
    "print(f\"Vendas da Loja: R$ {vendasLoja:,.2f}\")\n",
    "print(f\"Meta de Vendas da Loja: R$ {metaVendasLoja:,.2f}\")\n",
    "print(\"-\" * separador)\n",
    "print(f\"Vendas: R$ {vendas:,.2f}\")\n",
    "print(f\"Meta de Vendas: R$ {metaVendas:,.2f}\")\n",
    "print(f\"Comissão: R$ {vendas * comissao:,.2f}\")\n",
    "print(f\"Bônus: R$ {vendas * bonusQualitativo:,.2f}\")\n",
    "print(\"-\" * separador)\n",
    "print(f\"Salário: R$ {salario:,.2f}\")"
   ]
  }
 ],
 "metadata": {
  "kernelspec": {
   "display_name": "Python 3",
   "language": "python",
   "name": "python3"
  },
  "language_info": {
   "codemirror_mode": {
    "name": "ipython",
    "version": 3
   },
   "file_extension": ".py",
   "mimetype": "text/x-python",
   "name": "python",
   "nbconvert_exporter": "python",
   "pygments_lexer": "ipython3",
   "version": "3.9.13"
  }
 },
 "nbformat": 4,
 "nbformat_minor": 4
}
