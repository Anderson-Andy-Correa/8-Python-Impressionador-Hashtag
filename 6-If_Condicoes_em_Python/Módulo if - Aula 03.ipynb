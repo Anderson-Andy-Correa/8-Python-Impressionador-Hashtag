{
 "cells": [
  {
   "cell_type": "markdown",
   "metadata": {},
   "source": [
    "# elif\n",
    "\n",
    "E se temos mais do que um caso de sim e não?\n",
    "\n",
    "E se tivermos 3 casos?\n",
    "\n",
    "Usamos o elif da seguinte forma:"
   ]
  },
  {
   "cell_type": "raw",
   "metadata": {},
   "source": [
    "if condição:\n",
    "    o que fazer se a condição 1 for verdadeira\n",
    "elif condição_2:\n",
    "    o que fazer se a condição 1 for falsa e a condição 2 for verdadeira\n",
    "else:\n",
    "    o que fazer se a condição 1 e a condição 2 forem falsas"
   ]
  },
  {
   "cell_type": "markdown",
   "metadata": {},
   "source": [
    "### Exemplo:\n",
    "\n",
    "Vamos criar um programa para analisar o bônus dos funcionários de uma empresa (pode parecer \"simples\", mas uma empresa como a Amazon tem 900.000 funcionários)\n",
    "\n",
    "Para os cargos de vendedores, a regra do bônus é de acordo com a meta de vendas da pessoa:\n",
    "\n",
    "Se ela vendeu abaixo da meta dela, ela não ganha bônus.\n",
    "\n",
    "Se ela vendeu acima da meta dela, ela ganha como bônus 3% do valor que ela vendeu.\n",
    "\n",
    "Se ela vendeu mais do que o dobro da meta dela, ela ganha como bônus 7% do valor que ela vendeu.\n",
    "\n",
    "Vamos criar um programa para avaliar uma pessoa que tinha como meta de vendas 20.000 reais e calcular o bônus dela de acordo com o valor de vendas que ela tiver."
   ]
  },
  {
   "cell_type": "code",
   "execution_count": 24,
   "metadata": {},
   "outputs": [
    {
     "name": "stdout",
     "output_type": "stream",
     "text": [
      "Parabéns Louis, você atingiu mais que o dobro da meta de vendas!\n",
      "Vendas: R$ 50,000.00\n",
      "Meta de Vendas: R$ 20,000.00\n",
      "Comissão: R$ 3,500.00\n",
      "Salário: R$ 50,003,500.00\n"
     ]
    }
   ],
   "source": [
    "funcionario = \"Louis\"\n",
    "metaVendas = 20_000\n",
    "vendas = 50_000\n",
    "\n",
    "if vendas > metaVendas * 2:\n",
    "    comissao = 0.07\n",
    "    print(f\"Parabéns {funcionario}, você atingiu mais que o dobro da meta de vendas!\")\n",
    "elif vendas > metaVendas:\n",
    "    comissao = 0.03\n",
    "    print(f\"Parabéns {funcionario}, você atingiu a meta de vendas!\")\n",
    "else:\n",
    "    comissao = 0\n",
    "    print(f\"{funcionario}, você não atingiu a meta de vendas!\")\n",
    "\n",
    "print(f\"Vendas: R$ {vendas:,.2f}\")\n",
    "print(f\"Meta de Vendas: R$ {metaVendas:,.2f}\")\n",
    "print(f\"Comissão: R$ {vendas * comissao:,.2f}\")\n",
    "print(f\"Salário: R$ {vendas * (comissao + 1_000):,.2f}\")\n"
   ]
  }
 ],
 "metadata": {
  "kernelspec": {
   "display_name": "Python 3",
   "language": "python",
   "name": "python3"
  },
  "language_info": {
   "codemirror_mode": {
    "name": "ipython",
    "version": 3
   },
   "file_extension": ".py",
   "mimetype": "text/x-python",
   "name": "python",
   "nbconvert_exporter": "python",
   "pygments_lexer": "ipython3",
   "version": "3.8.3"
  }
 },
 "nbformat": 4,
 "nbformat_minor": 4
}
