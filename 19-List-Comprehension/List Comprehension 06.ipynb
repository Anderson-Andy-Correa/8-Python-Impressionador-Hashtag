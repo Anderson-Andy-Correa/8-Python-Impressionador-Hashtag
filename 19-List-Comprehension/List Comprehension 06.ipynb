{
 "cells": [
  {
   "cell_type": "markdown",
   "metadata": {},
   "source": [
    "# List Comprehension com if para escolher o resultado final\n",
    "\n",
    "### Estrutura:"
   ]
  },
  {
   "cell_type": "raw",
   "metadata": {},
   "source": [
    "lista = [item if condicao else outro_resultado for item in iterable]"
   ]
  },
  {
   "cell_type": "markdown",
   "metadata": {},
   "source": [
    "- Digamos que eu esteja analisando os vendedores de uma loja e queira criar uma lista para enviar para o RH com o bônus de cada vendedor.\n",
    "- O bônus é dado por 10% do valor de vendas dele, caso ele tenha batido a meta"
   ]
  },
  {
   "cell_type": "code",
   "execution_count": 34,
   "metadata": {},
   "outputs": [],
   "source": [
    "vendedores_dic = {'Maria': 1200, 'José': 300, 'Antônio': 800, 'João': 1500, 'Francisco': 1900, 'Ana': 2750, 'Luiz': 400, 'Paulo': 20, 'Carlos': 23, 'Manoel': 70, 'Pedro': 90, 'Francisca': 80, 'Marcos': 1100, 'Raimundo': 999, 'Sebastião': 900, 'Antônia': 880, 'Marcelo': 870, 'Jorge': 50, 'Márcia': 1111, 'Geraldo': 120, 'Adriana': 300, 'Sandra': 450, 'Luis': 800}\n",
    "meta = 1000"
   ]
  },
  {
   "cell_type": "markdown",
   "metadata": {},
   "source": [
    "- Fazendo por for"
   ]
  },
  {
   "cell_type": "code",
   "execution_count": 41,
   "metadata": {},
   "outputs": [
    {
     "name": "stdout",
     "output_type": "stream",
     "text": [
      "[120.0, 0, 0, 150.0, 190.0, 275.0, 0, 0, 0, 0, 0, 0, 110.0, 0, 0, 0, 0, 0, 111.1, 0, 0, 0, 0]\n"
     ]
    }
   ],
   "source": [
    "bonus_FOR = []\n",
    "for vendas in vendedores_dic.values():\n",
    "    bonus_FOR.append(0) if vendas < meta else bonus_FOR.append(round(vendas * 0.1, 1))\n",
    "print(bonus_FOR)"
   ]
  },
  {
   "cell_type": "markdown",
   "metadata": {},
   "source": [
    "- Fazendo por List Comprehension"
   ]
  },
  {
   "cell_type": "code",
   "execution_count": 43,
   "metadata": {},
   "outputs": [
    {
     "name": "stdout",
     "output_type": "stream",
     "text": [
      "[120.0, 0, 0, 150.0, 190.0, 275.0, 0, 0, 0, 0, 0, 0, 110.0, 0, 0, 0, 0, 0, 111.1, 0, 0, 0, 0]\n"
     ]
    }
   ],
   "source": [
    "bonus_LC = [0 if vendas < meta else round(vendas * 0.1, 1) for vendas in vendedores_dic.values()]\n",
    "print(bonus_LC)"
   ]
  },
  {
   "cell_type": "code",
   "execution_count": 39,
   "metadata": {},
   "outputs": [
    {
     "name": "stdout",
     "output_type": "stream",
     "text": [
      "{'Maria': 120.0, 'José': 0, 'Antônio': 0, 'João': 150.0, 'Francisco': 190.0, 'Ana': 275.0, 'Luiz': 0, 'Paulo': 0, 'Carlos': 0, 'Manoel': 0, 'Pedro': 0, 'Francisca': 0, 'Marcos': 110.0, 'Raimundo': 0, 'Sebastião': 0, 'Antônia': 0, 'Marcelo': 0, 'Jorge': 0, 'Márcia': 111.1, 'Geraldo': 0, 'Adriana': 0, 'Sandra': 0, 'Luis': 0}\n"
     ]
    }
   ],
   "source": [
    "bonus_dic = {vendedor: 0 if vendas < meta else round(vendas * 0.1, 1) for vendedor, vendas in vendedores_dic.items()}\n",
    "print(bonus_dic)"
   ]
  }
 ],
 "metadata": {
  "kernelspec": {
   "display_name": "Python 3",
   "language": "python",
   "name": "python3"
  },
  "language_info": {
   "codemirror_mode": {
    "name": "ipython",
    "version": 3
   },
   "file_extension": ".py",
   "mimetype": "text/x-python",
   "name": "python",
   "nbconvert_exporter": "python",
   "pygments_lexer": "ipython3",
   "version": "3.12.3"
  }
 },
 "nbformat": 4,
 "nbformat_minor": 4
}
