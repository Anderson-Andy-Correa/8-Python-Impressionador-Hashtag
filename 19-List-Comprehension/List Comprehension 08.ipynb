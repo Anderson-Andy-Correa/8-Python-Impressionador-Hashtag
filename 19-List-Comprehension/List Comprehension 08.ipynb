{
 "cells": [
  {
   "cell_type": "markdown",
   "metadata": {},
   "source": [
    "# List Comprehension não serve só para criar uma lista, serve para qualquer ação em iterable\n",
    "\n",
    "### Exemplo:"
   ]
  },
  {
   "cell_type": "markdown",
   "metadata": {},
   "source": [
    "- Vamos calcular quantos % das vendas o meu top 5 produtos representa das vendas totais"
   ]
  },
  {
   "cell_type": "code",
   "execution_count": 25,
   "metadata": {},
   "outputs": [],
   "source": [
    "produtos = ['coca', 'pepsi', 'guarana', 'skol', 'brahma', 'agua', 'del valle', 'dolly', 'red bull', 'cachaça', 'vinho tinto', 'vodka', 'vinho branco', 'tequila', 'champagne', 'gin', 'guaracamp', 'matte', 'leite de castanha', 'leite', 'jurupinga', 'sprite', 'fanta']\n",
    "vendas = [1200, 300, 800, 1500, 1900, 2750, 400, 20, 23, 70, 90, 80, 1100, 999, 900, 880, 870, 50, 1111, 120, 300, 450, 800]\n",
    "top5 = ['agua', 'brahma', 'skol', 'coca', 'leite de castanha']"
   ]
  },
  {
   "cell_type": "markdown",
   "metadata": {},
   "source": [
    "- Fazendo por for"
   ]
  },
  {
   "cell_type": "code",
   "execution_count": 27,
   "metadata": {},
   "outputs": [
    {
     "name": "stdout",
     "output_type": "stream",
     "text": [
      "8461\n",
      "Top 5 representou 50.6% das vendas\n"
     ]
    }
   ],
   "source": [
    "\n",
    "total_top5 = 0\n",
    "for produto in top5:\n",
    "    try:\n",
    "        total_top5 += vendas[produtos.index(produto)]\n",
    "    except:\n",
    "        total_top5 += 0\n",
    "print(total_top5)\n",
    "print('Top 5 representou {:0.1%} das vendas'.format(total_top5/sum(vendas)))"
   ]
  },
  {
   "cell_type": "markdown",
   "metadata": {},
   "source": [
    "- Fazendo por list comprehension"
   ]
  },
  {
   "cell_type": "code",
   "execution_count": 26,
   "metadata": {},
   "outputs": [
    {
     "name": "stdout",
     "output_type": "stream",
     "text": [
      "8461\n",
      "Top 5 representou 50.6% das vendas\n"
     ]
    }
   ],
   "source": [
    "total_top5 = sum([vendas[produtos.index(produto)] | 0 for produto in top5])\n",
    "print(total_top5)\n",
    "print('Top 5 representou {:0.1%} das vendas'.format(total_top5/sum(vendas)))"
   ]
  },
  {
   "cell_type": "code",
   "execution_count": 28,
   "metadata": {},
   "outputs": [
    {
     "name": "stdout",
     "output_type": "stream",
     "text": [
      "Os top 5 produtos somaram R$ 8.461,00 de um total de R$ 16.713,00 repesentando 50.63%\n"
     ]
    }
   ],
   "source": [
    "soma_sem_list = sum([venda for i, venda in enumerate(sorted(vendas, reverse=True)) if i < 5])\n",
    "soma_texto = f'{soma_sem_list:_.2f}'.replace('.', ',').replace('_', '.')\n",
    "vendas_texto = f'{sum(vendas):_.2f}'.replace('.', ',').replace('_', '.')\n",
    "print(f'Os top 5 produtos somaram R$ {soma_texto} de um total de R$ {vendas_texto} repesentando {soma_sem_list/sum(vendas):.2%}')"
   ]
  }
 ],
 "metadata": {
  "kernelspec": {
   "display_name": "Python 3",
   "language": "python",
   "name": "python3"
  },
  "language_info": {
   "codemirror_mode": {
    "name": "ipython",
    "version": 3
   },
   "file_extension": ".py",
   "mimetype": "text/x-python",
   "name": "python",
   "nbconvert_exporter": "python",
   "pygments_lexer": "ipython3",
   "version": "3.12.3"
  }
 },
 "nbformat": 4,
 "nbformat_minor": 4
}
