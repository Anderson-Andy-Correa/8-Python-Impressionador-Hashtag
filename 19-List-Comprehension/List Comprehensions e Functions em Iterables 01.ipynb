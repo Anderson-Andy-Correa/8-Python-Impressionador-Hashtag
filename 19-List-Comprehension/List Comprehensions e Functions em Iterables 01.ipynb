{
 "cells": [
  {
   "cell_type": "markdown",
   "metadata": {},
   "source": [
    "# List Comprehension - O que é e qual a importância?\n",
    "\n",
    "### Descrição:\n",
    "\n",
    "- List Comprehension é uma forma de iterar pelos elementas das listas de maneira \"mais direta\", com mais \"cara de Python\"\n",
    "- Em resumo: é como se você fizesse um \"for\" em 1 linha de código\n",
    "\n",
    "### Observação Importante:\n",
    "\n",
    "- Você não precisa de List comprehension para programar, tudo que vamos mostrar aqui dá pra fazer do jeito que já aprendemos\n",
    "- Você não vai sair de uma hora pra outra fazendo tudo list comprehension ao invés de for, porque é realmente mais confuso.\n",
    "- O objetivo aqui é:\n",
    "    1. Saber ler e entender o que tá acontecendo quando ver list comprehension (principal)\n",
    "    2. A medida do tempo você vai se acostumando com isso, vendo mais, usando mais e vai fazer naturalmente quando precisar.\n",
    "    \n",
    "- Mas se você sair desse módulo do curso achando isso tudo muito difícil, fica tranquilo, não usa por hora list comprehension e a medida que você for pegando mais experiência com o Python você lembra que tem esse módulo aqui e pode voltar no futuro\n",
    "\n",
    "### Estrutura:"
   ]
  },
  {
   "cell_type": "raw",
   "metadata": {},
   "source": [
    "lista = [expressão for item in iterable]"
   ]
  },
  {
   "cell_type": "code",
   "execution_count": 10,
   "metadata": {},
   "outputs": [],
   "source": [
    "preco_produtos = [100, 150, 300, 5500]\n",
    "produtos = ['vinho', 'cafeiteira', 'microondas', 'iphone']\n",
    "\n",
    "#digamos que o imposto sobre os produtos é de 30%, ou seja, 0.3. Como eu faria para criar uma lista com os \n",
    "#valores de imposto de cada produto?"
   ]
  },
  {
   "cell_type": "markdown",
   "metadata": {},
   "source": [
    "- Usando um for"
   ]
  },
  {
   "cell_type": "code",
   "execution_count": 13,
   "metadata": {},
   "outputs": [
    {
     "name": "stdout",
     "output_type": "stream",
     "text": [
      "Vinho     : R$ 100.00\t -> imposto: R$ 30.00\n",
      "Cafeiteira: R$ 150.00\t -> imposto: R$ 45.00\n",
      "Microondas: R$ 300.00\t -> imposto: R$ 90.00\n",
      "Iphone    : R$ 5_500.00\t -> imposto: R$ 1_650.00\n"
     ]
    }
   ],
   "source": [
    "impostos = []\n",
    "for preco in preco_produtos:\n",
    "    impostos.append(preco * 0.3)\n",
    "\n",
    "produto_maior_comprimento = max(produtos, key=len)\n",
    "for i in range(len(produtos)):\n",
    "    print(f'{produtos[i].capitalize().ljust(len(produto_maior_comprimento))}: R$ {preco_produtos[i]:_.2f}\\t -> imposto: R$ {impostos[i]:_.2f}')"
   ]
  },
  {
   "cell_type": "markdown",
   "metadata": {},
   "source": [
    "- Usando list comprehension"
   ]
  },
  {
   "cell_type": "code",
   "execution_count": 14,
   "metadata": {},
   "outputs": [
    {
     "name": "stdout",
     "output_type": "stream",
     "text": [
      "Vinho     : R$ 100.00\t -> imposto: R$ 30.00\n",
      "Cafeiteira: R$ 150.00\t -> imposto: R$ 45.00\n",
      "Microondas: R$ 300.00\t -> imposto: R$ 90.00\n",
      "Iphone    : R$ 5_500.00\t -> imposto: R$ 1_650.00\n"
     ]
    }
   ],
   "source": [
    "impostos = [preco * 0.3 for preco in preco_produtos]\n",
    "\n",
    "produto_maior_comprimento = max(produtos, key=len)\n",
    "for i in range(len(produtos)):\n",
    "    print(f'{produtos[i].capitalize().ljust(len(produto_maior_comprimento))}: R$ {preco_produtos[i]:_.2f}\\t -> imposto: R$ {impostos[i]:_.2f}')"
   ]
  },
  {
   "cell_type": "markdown",
   "metadata": {},
   "source": [
    "- A \"expressão\" na list comprehension pode ser uma function tb"
   ]
  },
  {
   "cell_type": "code",
   "execution_count": 15,
   "metadata": {},
   "outputs": [
    {
     "name": "stdout",
     "output_type": "stream",
     "text": [
      "Vinho     : R$ 100.00\t -> imposto: R$ 30.00\n",
      "Cafeiteira: R$ 150.00\t -> imposto: R$ 45.00\n",
      "Microondas: R$ 300.00\t -> imposto: R$ 90.00\n",
      "Iphone    : R$ 5_500.00\t -> imposto: R$ 1_650.00\n"
     ]
    }
   ],
   "source": [
    "def calcular_imposto(preco, imposto):\n",
    "    return preco * imposto\n",
    "impostos = [calcular_imposto(preco, 0.3) for preco in preco_produtos]\n",
    "\n",
    "produto_maior_comprimento = max(produtos, key=len)\n",
    "for i in range(len(produtos)):\n",
    "    print(f'{produtos[i].capitalize().ljust(len(produto_maior_comprimento))}: R$ {preco_produtos[i]:_.2f}\\t -> imposto: R$ {impostos[i]:_.2f}')\n"
   ]
  },
  {
   "cell_type": "markdown",
   "metadata": {},
   "source": [
    "### Observação:\n",
    "\n",
    "- Normalmente isso é usado quando queremos fazer uma única ação com os itens de uma lista. Não é obrigatório, mas é comum de encontrar principalmente com programadores mais experientes/preocupados com \"a melhor forma de fazer alguma coisa\"\n",
    "\n",
    "- Cuidado: se a sua lista for MUITO grande, o list comprehension pode acabar sendo difícil de compilar. Nesses casos podemos usar funções, for tradicionais com breaks para interromper ou até bibliotecas como o panda que trabalham bem com muitos dados"
   ]
  }
 ],
 "metadata": {
  "kernelspec": {
   "display_name": "Python 3",
   "language": "python",
   "name": "python3"
  },
  "language_info": {
   "codemirror_mode": {
    "name": "ipython",
    "version": 3
   },
   "file_extension": ".py",
   "mimetype": "text/x-python",
   "name": "python",
   "nbconvert_exporter": "python",
   "pygments_lexer": "ipython3",
   "version": "3.11.9"
  }
 },
 "nbformat": 4,
 "nbformat_minor": 4
}
