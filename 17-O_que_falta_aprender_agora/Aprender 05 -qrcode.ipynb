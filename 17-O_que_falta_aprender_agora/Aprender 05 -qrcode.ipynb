{
 "cells": [
  {
   "cell_type": "markdown",
   "id": "9d4ec1f7-92e3-4764-8b47-318a52fc62c4",
   "metadata": {},
   "source": [
    "# Criando QR Code"
   ]
  },
  {
   "cell_type": "markdown",
   "id": "6a649f54-8f0f-46dd-933a-e934d67e51b0",
   "metadata": {},
   "source": [
    "Para instalar:\n",
    "\n",
    "```\n",
    "pip install qrcode\n",
    "pip install Pillow\n",
    "```"
   ]
  },
  {
   "cell_type": "markdown",
   "id": "0a2ec7b0-c74f-4857-a6a7-2b79641a44da",
   "metadata": {},
   "source": [
    "Links da Hashtag:\n",
    "\n",
    "- https://www.youtube.com/@HashtagProgramacao\n",
    "- https://www.facebook.com/hashtagprogramacao\n",
    "- https://www.instagram.com/hashtagprogramacao\n",
    "- https://www.youtube.com/@HashtagProgramacao\n",
    "- https://www.tiktok.com/@hashtagprogramacao"
   ]
  },
  {
   "cell_type": "code",
   "execution_count": 1,
   "id": "a00be362",
   "metadata": {},
   "outputs": [
    {
     "name": "stdout",
     "output_type": "stream",
     "text": [
      "Requirement already satisfied: qrcode in c:\\users\\anderson correia\\appdata\\local\\packages\\pythonsoftwarefoundation.python.3.11_qbz5n2kfra8p0\\localcache\\local-packages\\python311\\site-packages (7.4.2)\n",
      "Requirement already satisfied: typing-extensions in c:\\users\\anderson correia\\appdata\\local\\packages\\pythonsoftwarefoundation.python.3.11_qbz5n2kfra8p0\\localcache\\local-packages\\python311\\site-packages (from qrcode) (4.11.0)\n",
      "Requirement already satisfied: pypng in c:\\users\\anderson correia\\appdata\\local\\packages\\pythonsoftwarefoundation.python.3.11_qbz5n2kfra8p0\\localcache\\local-packages\\python311\\site-packages (from qrcode) (0.20220715.0)\n",
      "Requirement already satisfied: colorama in c:\\users\\anderson correia\\appdata\\local\\packages\\pythonsoftwarefoundation.python.3.11_qbz5n2kfra8p0\\localcache\\local-packages\\python311\\site-packages (from qrcode) (0.4.6)\n",
      "Requirement already satisfied: pillow in c:\\users\\anderson correia\\appdata\\local\\packages\\pythonsoftwarefoundation.python.3.11_qbz5n2kfra8p0\\localcache\\local-packages\\python311\\site-packages (10.2.0)\n"
     ]
    }
   ],
   "source": [
    "!pip install qrcode\n",
    "!pip install pillow"
   ]
  },
  {
   "cell_type": "markdown",
   "id": "fbd74860-92b2-4efe-96cb-1bd4f701ba30",
   "metadata": {},
   "source": [
    "## QR Code simples"
   ]
  },
  {
   "cell_type": "code",
   "execution_count": 19,
   "id": "aeb7d00d-0dbd-446e-8f94-3b00e10a763d",
   "metadata": {},
   "outputs": [],
   "source": [
    "import qrcode\n",
    "qr = qrcode.QRCode(version=1, box_size=20, border=10)\n",
    "qr.add_data('https://www.youtube.com/@HashtagProgramacao')\n",
    "qr.make(fit=True)\n",
    "\n",
    "img = qr.make_image(fill_color=\"white\", back_color=\"black\")\n",
    "img.save(\"qrcode.png\")\n",
    "img.show()"
   ]
  },
  {
   "cell_type": "markdown",
   "id": "0df50a17-96db-49b2-bf18-d00f8193ae0e",
   "metadata": {},
   "source": [
    "## QR Code com imagem"
   ]
  },
  {
   "cell_type": "code",
   "execution_count": 29,
   "id": "038b1eac-e441-4d0f-84af-097c3ade3791",
   "metadata": {},
   "outputs": [],
   "source": [
    "import qrcode\n",
    "from qrcode.image.styledpil import StyledPilImage\n",
    "\n",
    "qr = qrcode.QRCode(error_correction=qrcode.constants.ERROR_CORRECT_H, box_size=20, border=10)\n",
    "qr.add_data('https://www.youtube.com/@HashtagProgramacao')\n",
    "\n",
    "image = qr.make_image(image_factory=StyledPilImage, embeded_image_path='logo.png')\n",
    "image.save('qrcode_logo.png')\n",
    "image.show()"
   ]
  },
  {
   "cell_type": "markdown",
   "id": "6bd9dccf-64e7-4dfe-b4cb-f81ef1cd2f9f",
   "metadata": {},
   "source": [
    "## Criando diversos QR Code ao mesmo tempo"
   ]
  },
  {
   "cell_type": "code",
   "execution_count": 42,
   "id": "2028e0a0-49a6-4a9e-a903-0d1397cf2422",
   "metadata": {},
   "outputs": [],
   "source": [
    "def generate_qr_code(filename, url, logo_path):\n",
    "    qr = qrcode.QRCode(error_correction=qrcode.constants.ERROR_CORRECT_H, box_size=20, border=10)\n",
    "    qr.add_data(url)\n",
    "    qr.make(fit=True)\n",
    "\n",
    "\n",
    "    img = qr.make_image(image_factory=StyledPilImage, embeded_image_path=logo_path)\n",
    "    img.save(f\"qrcode_{filename}.png\")\n",
    "    img.show()\n",
    "\n",
    "links = {\n",
    "    \"Youtube\"   : \"https://www.youtube.com/@HashtagProgramacao\",\n",
    "    \"Facebook\"  : \"https://www.facebook.com/hashtagprogramacao\",\n",
    "    \"Instagram\" : \"https://www.instagram.com/hashtagprogramacao\",\n",
    "    \"Tiktok\"    : \"https://www.tiktok.com/@hashtagprogramacao\"\n",
    "}\n",
    "\n",
    "for social_midea, url in links.items():\n",
    "    generate_qr_code(f\"qrcode_{social_midea}.png\", url, \"logo.png\")\n"
   ]
  }
 ],
 "metadata": {
  "kernelspec": {
   "display_name": "Python 3",
   "language": "python",
   "name": "python3"
  },
  "language_info": {
   "codemirror_mode": {
    "name": "ipython",
    "version": 3
   },
   "file_extension": ".py",
   "mimetype": "text/x-python",
   "name": "python",
   "nbconvert_exporter": "python",
   "pygments_lexer": "ipython3",
   "version": "3.11.9"
  }
 },
 "nbformat": 4,
 "nbformat_minor": 5
}
