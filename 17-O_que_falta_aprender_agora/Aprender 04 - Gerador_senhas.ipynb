{
 "cells": [
  {
   "cell_type": "markdown",
   "id": "74b1c214-34d8-43a1-867b-1055887eca93",
   "metadata": {},
   "source": [
    "Escreva um programa que gere uma senha aleatória com um determinado comprimento. A senha deve conter uma mistura de letras, números e caracteres especiais. O comprimento da senha deve ser fornecido pelo usuário. Se o comprimento for menor que 4, imprima uma mensagem de erro e peça ao usuário para fornecer um novo comprimento.\n",
    "\n",
    "A senha deve ser aleatória, então cada vez que o usuário executar o programa, uma nova senha deve ser gerada. Obrigatoriamente, a senha deve conter pelo menos uma letra, um número e um caractere especial. A senha não pode conter espaços em branco.\n",
    "\n",
    "O programa deve conter uma função chamada `gerar_senha` que recebe o comprimento da senha como parâmetro e retorna a senha gerada. Se o comprimento for inválido, a função deve retornar None.\n",
    "\n",
    "Exemplo de saída:\n",
    "\n",
    "```\n",
    "Digite o comprimento da senha: 10\n",
    "8Zn$*2q9X\n",
    "```\n",
    "\n",
    "- Dica: use a biblioteca random e a função shuffle para embaralhar os caracteres da senha.\n",
    "- Dica: use a função choice, dessa mesma biblioteca, para escolher um caractere aleatório de uma string.\n",
    "- Dica: use a biblioteca string para obter uma lista de caracteres válidos para a senha."
   ]
  },
  {
   "cell_type": "code",
   "execution_count": 74,
   "id": "2e59024d",
   "metadata": {},
   "outputs": [
    {
     "name": "stdout",
     "output_type": "stream",
     "text": [
      "S3,<!T+a7M\n"
     ]
    }
   ],
   "source": [
    "from random import shuffle, choice, choices\n",
    "from string import digits, punctuation, ascii_uppercase, ascii_lowercase\n",
    "\n",
    "def gerar_senha(tamanho: int) -> str | None:\n",
    "    \"\"\"\n",
    "    Função que gera uma senha aleatória com o tamanho desejado.\n",
    "\n",
    "    Args:\n",
    "        tamanho (int): Tamanho da senha desejada.\n",
    "\n",
    "    Returns:\n",
    "        str | None: Retorna a senha gerada ou None se o tamanho for menor que 4.\n",
    "    \"\"\"\n",
    "    tamanho_minimo = 4\n",
    "    if tamanho < tamanho_minimo:\n",
    "        print(f\"O tamanho da senha deve ser maior ou igual a {tamanho_minimo}.\")\n",
    "        return None\n",
    "    \n",
    "    # Criando a obrigatoriedade de pelo menos um caractere de cada categoria\n",
    "    senha = [choice(digits), choice(ascii_uppercase), choice(ascii_lowercase), choice(punctuation)]\n",
    "\n",
    "    # Adicionando caracteres aleatorios até o tamanho desejado\n",
    "    caracteres_possiveis = \"\".join([digits, ascii_uppercase, ascii_lowercase, punctuation])\n",
    "    senha.extend(choices(caracteres_possiveis, k=tamanho - tamanho_minimo))\n",
    "    \n",
    "    # Embaralhando a senha e juntando os caracteres\n",
    "    shuffle(senha)\n",
    "    return \"\".join(senha)\n",
    "\n",
    "def main():\n",
    "    try:\n",
    "        input_tamanho = int(input(\"Digite o tamanho da senha desejada: \"))\n",
    "        print(f\"{gerar_senha(input_tamanho)}\")\n",
    "    except ValueError as ve:\n",
    "        print(ve)\n",
    "    \n",
    "\n",
    "if __name__ == '__main__':\n",
    "    main()"
   ]
  }
 ],
 "metadata": {
  "kernelspec": {
   "display_name": "Python 3 (ipykernel)",
   "language": "python",
   "name": "python3"
  },
  "language_info": {
   "codemirror_mode": {
    "name": "ipython",
    "version": 3
   },
   "file_extension": ".py",
   "mimetype": "text/x-python",
   "name": "python",
   "nbconvert_exporter": "python",
   "pygments_lexer": "ipython3",
   "version": "3.11.9"
  }
 },
 "nbformat": 4,
 "nbformat_minor": 5
}
