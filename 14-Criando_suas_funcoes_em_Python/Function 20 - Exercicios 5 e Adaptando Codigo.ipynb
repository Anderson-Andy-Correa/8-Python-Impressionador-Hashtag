{
 "cells": [
  {
   "cell_type": "markdown",
   "id": "a2fee89b",
   "metadata": {},
   "source": [
    "### Forma de pensar"
   ]
  },
  {
   "cell_type": "code",
   "execution_count": null,
   "id": "1be9db7d",
   "metadata": {},
   "outputs": [],
   "source": [
    "# Top -> Down\n",
    "\n",
    "# Exemplo simples: atravessar a rua"
   ]
  },
  {
   "cell_type": "markdown",
   "id": "672e10e0",
   "metadata": {},
   "source": [
    "### Exemplo de Exercício do Curso"
   ]
  },
  {
   "cell_type": "markdown",
   "id": "fee80189",
   "metadata": {},
   "source": [
    "#### 23. Faça um Programa para uma loja de tintas. O programa deverá pedir o tamanho em metros quadrados da área a ser pintada. Considere que a cobertura da tinta é de 1 litro para cada 6 metros quadrados e que a tinta é vendida em latas de 18 litros, que custam R\\\\$ 80,00 ou em galões de 3,6 litros, que custam R\\\\$ 25,00."
   ]
  },
  {
   "cell_type": "code",
   "execution_count": 22,
   "id": "4499bb83",
   "metadata": {},
   "outputs": [
    {
     "name": "stdout",
     "output_type": "stream",
     "text": [
      "----------Bem vindo!----------\n",
      "Usando Só latas: \n",
      "Serão necessários 1 latas, custando R$80 para pintar a área de 107.0m² \n",
      "Com uma sobra de 0.17 litros\n",
      "--------------------\n",
      "Usando Só galões: \n",
      "Serão necessários 5 galões, custando R$125 para pintar a área de 107.0m² \n",
      "Com uma sobra de 0.17 litros\n",
      "--------------------\n",
      "Usando eficiente: \n",
      "Serão necessários 0.0 latas e 5 galões, custando R$125,0 para pintar a área de 107.0m² \n",
      "Com uma sobra de 1.00 litros\n",
      "--------------------\n"
     ]
    }
   ],
   "source": [
    "import math\n",
    "def menu():\n",
    "    texto_menu = f'Bem vindo!'\n",
    "    print(f'{texto_menu:-^30}')\n",
    "\n",
    "def calcular_litros(metros_quadrados: float) -> float:\n",
    "    rendimento_litro = 6 # metros quadrados\n",
    "    return metros_quadrados / rendimento_litro\n",
    "\n",
    "    \n",
    "def calcular_custo_area_latas(metros_quadrados: float) -> float:\n",
    "    custo_latas = 80 # reais\n",
    "    litros_necessarios = calcular_litros(metros_quadrados)\n",
    "    tot_latas, desperdicio = calcular_quantidade_latas(litros_necessarios)\n",
    "    tot_custo = tot_latas * custo_latas\n",
    "    print(f\"Serão necessários {tot_latas} latas, custando R${padronizar_moeda(tot_custo)} para pintar a área de {metros_quadrados}m² \\nCom uma sobra de {desperdicio:.2f} litros\")\n",
    "\n",
    "\n",
    "def calcular_quantidade_latas(litros: float) -> tuple:\n",
    "    tamanho_lata = 18 # litros\n",
    "    if litros > 0:\n",
    "        quantidade_latas = math.ceil(litros / tamanho_lata)\n",
    "        desperdicio = (quantidade_latas * tamanho_lata) % litros\n",
    "        return (quantidade_latas, desperdicio)\n",
    "    else:\n",
    "        return (0, litros)\n",
    "\n",
    "\n",
    "def calcular_custo_area_galao(metros_quadrados: float) -> float:\n",
    "    custo_galao = 25 # reais\n",
    "    litros_necessarios = calcular_litros(metros_quadrados)\n",
    "    tot_galoes, desperdicio = calcular_quantidade_galoes(litros_necessarios)\n",
    "    tot_custo = tot_galoes * custo_galao\n",
    "    print(f\"Serão necessários {tot_galoes} galões, custando R${padronizar_moeda(tot_custo)} para pintar a área de {metros_quadrados}m² \\nCom uma sobra de {desperdicio:.2f} litros\")\n",
    "\n",
    "\n",
    "def calcular_quantidade_galoes(litros: float) -> tuple:\n",
    "    tamanho_galao = 3.6 # litros\n",
    "    if litros > 0:\n",
    "        quantidade_galoes = math.ceil(litros / tamanho_galao)\n",
    "        desperdicio = (quantidade_galoes * tamanho_galao) % litros\n",
    "        return (quantidade_galoes, desperdicio)\n",
    "    else:\n",
    "        return (0, litros)\n",
    "\n",
    "\n",
    "def calcular_custo_area_eficiente(metros_quadrados: float) -> int:\n",
    "    custo_galao = 25 # reais\n",
    "    custo_latas = 80 # reais\n",
    "    litros_necessarios = calcular_litros(metros_quadrados)\n",
    "    quantidade_latas, quantidade_galoes, desperdicio = calcular_quantidade_eficiente(litros_necessarios)\n",
    "    tot_custo = quantidade_galoes * custo_galao + quantidade_latas * custo_latas\n",
    "    print(f\"Serão necessários {quantidade_latas} latas e {quantidade_galoes} galões, custando R${padronizar_moeda(tot_custo)} para pintar a área de {metros_quadrados}m² \\nCom uma sobra de {desperdicio:.2f} litros\")\n",
    "\n",
    "\n",
    "def calcular_quantidade_eficiente(litros: float) -> tuple:\n",
    "    tamanho_galao = 3.6 # litros\n",
    "    tamanho_lata = 18 # litros\n",
    "    custo_galao = 25 # reais\n",
    "    custo_latas = 80 # reais\n",
    "    comparativo_eficiencia = math.ceil(custo_latas / custo_galao) * tamanho_galao\n",
    "    if litros > 0:\n",
    "        if litros > comparativo_eficiencia:\n",
    "            quantidade_latas = litros // tamanho_lata\n",
    "            sobra = litros % tamanho_lata\n",
    "            quantidade_galoes = math.ceil(sobra / tamanho_galao)\n",
    "            sobra = (quantidade_galoes * tamanho_galao) // litros\n",
    "            return (quantidade_latas, quantidade_galoes, sobra)\n",
    "        else:\n",
    "            quantidade_galoes = math.ceil(litros / tamanho_galao)\n",
    "            sobra = (quantidade_galoes * tamanho_galao) - litros\n",
    "            return (0, quantidade_galoes, sobra) \n",
    "    else:\n",
    "        return (0, 0, litros)\n",
    "\n",
    "\n",
    "def padronizar_moeda(valor: float) -> str:\n",
    "    return f\"{valor:_.2f}\".replace(\".\", \",\").replace(\"_\", \".\")\n",
    "\n",
    "\n",
    "def padronizar_moeda(valor: str) -> str:\n",
    "    return f\"{valor}\".replace(\".\", \",\").replace(\"_\",\".\")\n",
    "\n",
    "\n",
    "menu()\n",
    "metros_quadrados = float(input(\"Qual a área em m²? \"))\n",
    "\n",
    "print(\"Usando Só latas: \")\n",
    "calcular_custo_area_latas(metros_quadrados)\n",
    "print(\"-\"*20)\n",
    "print(\"Usando Só galões: \")\n",
    "calcular_custo_area_galao(metros_quadrados)\n",
    "print(\"-\"*20)\n",
    "print(\"Usando eficiente: \")\n",
    "calcular_custo_area_eficiente(metros_quadrados)\n",
    "print(\"-\"*20)"
   ]
  },
  {
   "cell_type": "markdown",
   "id": "0d5fa10a",
   "metadata": {},
   "source": [
    "##### Informe ao usuário as quantidades de tinta a serem compradas e os respectivos preços em 3 situações.\n",
    "\n",
    "Dica: lembre dos operadores // e % mostrados em exercícios anteriores<br>\n",
    "Dica1: numero // 10 vai te dar como resposta a parte inteira da divisão do número por 10. Ex: 7 // 3 = 2; 10 // 3 = 3<br> \n",
    "Dica2: numero % 10 vai te dar o resto da divisão do número por 10. Ex: 7 % 3 = 1; 10 % 3 = 1; 15 % 3 = 0\n",
    "\n",
    "##### 1. Comprar apenas latas de 18 litros: (apenas latas inteiras)"
   ]
  },
  {
   "cell_type": "code",
   "execution_count": null,
   "id": "bc38cdcd",
   "metadata": {},
   "outputs": [],
   "source": []
  },
  {
   "cell_type": "markdown",
   "id": "15dc7322",
   "metadata": {},
   "source": [
    "##### 2. Comprar apenas galões de 3,6 litros: (apenas galoes inteiros)"
   ]
  },
  {
   "cell_type": "code",
   "execution_count": null,
   "id": "6e0a01af",
   "metadata": {},
   "outputs": [],
   "source": []
  },
  {
   "cell_type": "markdown",
   "id": "35e0aa11",
   "metadata": {},
   "source": [
    "##### 3. Misturar latas e galões, de forma que o desperdício de tinta seja menor. Sempre arredonde os valores para cima, isto é, considere latas cheias."
   ]
  },
  {
   "cell_type": "markdown",
   "id": "95a3d342",
   "metadata": {},
   "source": [
    "O custo da lata é 80/18 = 4,44 R\\\\$/L\n",
    "\n",
    "O custo do galão é 25/3,6 = 6,94 R\\\\$/L\n",
    "\n",
    "A lata é mais econômica, então todas as latas inteiras que pudermos usar devemos comprar em latas. Se ficar faltando alguma coisa para completar devemos avaliar se é melhor comprar latas ou galões. Exemplo:\n",
    "\n",
    "Se queremos comprar 90 litros. 5 latas dão exatamente 90 litros. Então devemos comprar tudo em latas.\n",
    "\n",
    "Se queremos comprar 95 litros. 5 latas dão exatamente 90 litros. Então devemos comprar pelo menos 5 latas e avaliar o que falta, se estes últimos 5 litros valem mais apenas em latas ou galões.\n",
    "\n",
    "Para os 5 litros faltantes precisamos de 2 galões que custam 50 reais no total. Ou de uma lata que custa 80 reais no total. Portanto, neste caso vale mais a pena usar 2 galões.\n",
    "\n",
    "Se queremos comprar 107 litros. 5 latas dão exatamente 90 litros. Então devemos comprar pelo menos 5 latas e avaliar o que falta, se estes últimos 5 litros valem mais apenas em latas ou galões.\n",
    "\n",
    "Para os 17 litros faltantes precisamos de 5 galões que custam 125 reais no total. Ou de uma lata que custa 80 reais no total. Portanto, neste caso vale mais a pena usar uma lata.\n",
    "\n",
    "3 galões custam 75 reais, 4 galões custam 100 reais. Então, se for possível completar com até 3 galões escolhe-se galões. Qualquer quantidade maior que 3 galões, usa-se latas.\n",
    "\n",
    "Podemos ir ao exercício:"
   ]
  },
  {
   "cell_type": "code",
   "execution_count": null,
   "id": "0e9847d9",
   "metadata": {},
   "outputs": [],
   "source": []
  },
  {
   "cell_type": "code",
   "execution_count": null,
   "id": "4e4b363c",
   "metadata": {},
   "outputs": [],
   "source": []
  }
 ],
 "metadata": {
  "kernelspec": {
   "display_name": "Python 3 (ipykernel)",
   "language": "python",
   "name": "python3"
  },
  "language_info": {
   "codemirror_mode": {
    "name": "ipython",
    "version": 3
   },
   "file_extension": ".py",
   "mimetype": "text/x-python",
   "name": "python",
   "nbconvert_exporter": "python",
   "pygments_lexer": "ipython3",
   "version": "3.12.4"
  }
 },
 "nbformat": 4,
 "nbformat_minor": 5
}
