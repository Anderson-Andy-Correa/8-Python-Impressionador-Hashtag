{
 "cells": [
  {
   "cell_type": "markdown",
   "metadata": {},
   "source": [
    "# Exercícios\n",
    "\n",
    "São exercícios bem parecidos com os que fizemos com listas. Mas na tupla, podemos não só trabalhar com índices, mas fazer o \"unpacking\" das tuplas, o que pode facilitar nossos códigos.\n",
    "\n",
    "## 1. Análise de Vendas\n",
    "\n",
    "Nesse exercício vamos fazer uma \"análise simples\" de atingimento de Meta.\n",
    "\n",
    "Temos uma lista com os vendedores e os valores de vendas e queremos identificar (printar) quais os vendedores que bateram a meta e qual foi o valor que eles venderam."
   ]
  },
  {
   "cell_type": "code",
   "execution_count": 5,
   "metadata": {},
   "outputs": [
    {
     "name": "stdout",
     "output_type": "stream",
     "text": [
      "   João bateu a meta com R$15_000.00 em vendas\n",
      "  Julia bateu a meta com R$27_000.00 em vendas\n",
      "    Ana bateu a meta com R$10_300.00 em vendas\n"
     ]
    }
   ],
   "source": [
    "meta = 10000\n",
    "vendas = [\n",
    "    ('João', 15000),\n",
    "    ('Julia', 27000),\n",
    "    ('Marcus', 9900),\n",
    "    ('Maria', 3750),\n",
    "    ('Ana', 10300),\n",
    "    ('Alon', 7870),\n",
    "]\n",
    "\n",
    "for nome, venda in vendas:\n",
    "    if venda >= meta:\n",
    "        print(f'{nome:>7} bateu a meta com R${venda:_.2f} em vendas')"
   ]
  },
  {
   "cell_type": "markdown",
   "metadata": {},
   "source": [
    "## 2. Comparação com Ano Anterior\n",
    "\n",
    "Digamos que você está analisando as vendas de produtos de um ecommerce e quer identificar quais produtos tiveram no ano de 2020 mais vendas do que no ano de 2019, para reportar isso para a diretoria.\n",
    "\n",
    "Sua resposta pode ser um print de cada produto, qual foi a venda de 2019, a venda de 2020 e o % de crescimento de 2020 para 2019.\n",
    "\n",
    "Lembrando, para calcular o % de crescimento de um produto de um ano para o outro, podemos fazer: (vendas_produto2020/vendas_produto2019 - 1)\n",
    "\n",
    "A lógica da tupla é: (produto, vendas2019, vendas2020)"
   ]
  },
  {
   "cell_type": "code",
   "execution_count": 12,
   "metadata": {},
   "outputs": [
    {
     "name": "stdout",
     "output_type": "stream",
     "text": [
      "O produto            iphone vendeu em 2019, R$558_147.00 em vendas, já em 2020 foi de R$951_642.00. Tendo um crescimento de 70.50%\n",
      "O produto                tv vendeu em 2019, R$405_252.00 em vendas, já em 2020 foi de R$787_604.00. Tendo um crescimento de 94.35%\n",
      "O produto   máquina de café vendeu em 2019, R$718_654.00 em vendas, já em 2020 foi de R$867_660.00. Tendo um crescimento de 20.73%\n",
      "O produto     notebook dell vendeu em 2019, R$422_760.00 em vendas, já em 2020 foi de R$694_913.00. Tendo um crescimento de 64.38%\n",
      "O produto       notebook hp vendeu em 2019, R$154_753.00 em vendas, já em 2020 foi de R$539_704.00. Tendo um crescimento de 248.75%\n",
      "O produto microsoft surface vendeu em 2019, R$438_508.00 em vendas, já em 2020 foi de R$667_179.00. Tendo um crescimento de 52.15%\n",
      "O produto            webcam vendeu em 2019, R$237_467.00 em vendas, já em 2020 foi de R$295_633.00. Tendo um crescimento de 24.49%\n",
      "O produto      caixa de som vendeu em 2019, R$489_705.00 em vendas, já em 2020 foi de R$725_316.00. Tendo um crescimento de 48.11%\n",
      "O produto         microfone vendeu em 2019, R$328_311.00 em vendas, já em 2020 foi de R$644_622.00. Tendo um crescimento de 96.34%\n",
      "O produto      câmera canon vendeu em 2019, R$591_120.00 em vendas, já em 2020 foi de R$994_303.00. Tendo um crescimento de 68.21%\n"
     ]
    }
   ],
   "source": [
    "vendas_produtos = [('iphone', 558147, 951642), ('galaxy', 712350, 244295), ('ipad', 573823, 26964), ('tv', 405252, 787604), ('máquina de café', 718654, 867660), ('kindle', 531580, 78830), ('geladeira', 973139, 710331), ('adega', 892292, 646016), ('notebook dell', 422760, 694913), ('notebook hp', 154753, 539704), ('notebook asus', 887061, 324831), ('microsoft surface', 438508, 667179), ('webcam', 237467, 295633), ('caixa de som', 489705, 725316), ('microfone', 328311, 644622), ('câmera canon', 591120, 994303)]\n",
    "\n",
    "#seu código aqui\n",
    "for produto, venda2019, venda2020 in vendas_produtos:\n",
    "    if venda2019 < venda2020:\n",
    "        print(f'O produto {produto:>17} vendeu em 2019, R${venda2019:_.2f} em vendas, já em 2020 foi de R${venda2020:_.2f}. Tendo um crescimento de {(venda2020/venda2019) - 1:.2%}')"
   ]
  }
 ],
 "metadata": {
  "kernelspec": {
   "display_name": "Python 3",
   "language": "python",
   "name": "python3"
  },
  "language_info": {
   "codemirror_mode": {
    "name": "ipython",
    "version": 3
   },
   "file_extension": ".py",
   "mimetype": "text/x-python",
   "name": "python",
   "nbconvert_exporter": "python",
   "pygments_lexer": "ipython3",
   "version": "3.11.8"
  }
 },
 "nbformat": 4,
 "nbformat_minor": 4
}
