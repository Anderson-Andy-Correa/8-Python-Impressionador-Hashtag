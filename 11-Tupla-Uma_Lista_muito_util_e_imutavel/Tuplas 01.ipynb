{
 "cells": [
  {
   "cell_type": "markdown",
   "metadata": {},
   "source": [
    "# Tuplas\n",
    "\n",
    "### Estrutura:\n",
    "\n",
    "tupla = (valor, valor, valor, ...)\n",
    "\n",
    "### Diferença\n",
    "\n",
    "Parece uma lista, mas é imutável.\n",
    "\n",
    "### Vantagens:\n",
    "\n",
    "- Mais eficiente (em termos de performance)\n",
    "- Protege a base de dados (por ser imutável)\n",
    "- Muito usado para dados heterogêneos\n",
    "\n",
    "### Criando tuplas"
   ]
  },
  {
   "cell_type": "code",
   "execution_count": 1,
   "metadata": {},
   "outputs": [],
   "source": [
    "vendas = ('Lira', '25/08/2020', '15/02/1994', 2000, 'Estagiário')"
   ]
  },
  {
   "cell_type": "markdown",
   "metadata": {},
   "source": [
    "### Acessando o valor de uma tupla"
   ]
  },
  {
   "cell_type": "code",
   "execution_count": 13,
   "metadata": {},
   "outputs": [
    {
     "name": "stdout",
     "output_type": "stream",
     "text": [
      "Nome: Lira\n",
      "Data de contratação: 25/08/2020\n",
      "Data de nascimento: 15/02/1994\n",
      "Salário: 2000\n",
      "Cargo: Estagiário\n"
     ]
    }
   ],
   "source": [
    "nome = vendas[0]\n",
    "data_contratacao = vendas[1]\n",
    "data_nascimento = vendas[2]\n",
    "salario = vendas[3]\n",
    "cargo = vendas[4]\n",
    "\n",
    "print(f'Nome: {nome}')\n",
    "print(f'Data de contratação: {data_contratacao}')\n",
    "print(f'Data de nascimento: {data_nascimento}')\n",
    "print(f'Salário: {salario}')\n",
    "print(f'Cargo: {cargo}')"
   ]
  },
  {
   "cell_type": "code",
   "execution_count": null,
   "metadata": {},
   "outputs": [],
   "source": []
  }
 ],
 "metadata": {
  "kernelspec": {
   "display_name": "Python 3",
   "language": "python",
   "name": "python3"
  },
  "language_info": {
   "codemirror_mode": {
    "name": "ipython",
    "version": 3
   },
   "file_extension": ".py",
   "mimetype": "text/x-python",
   "name": "python",
   "nbconvert_exporter": "python",
   "pygments_lexer": "ipython3",
   "version": "3.11.8"
  }
 },
 "nbformat": 4,
 "nbformat_minor": 4
}
