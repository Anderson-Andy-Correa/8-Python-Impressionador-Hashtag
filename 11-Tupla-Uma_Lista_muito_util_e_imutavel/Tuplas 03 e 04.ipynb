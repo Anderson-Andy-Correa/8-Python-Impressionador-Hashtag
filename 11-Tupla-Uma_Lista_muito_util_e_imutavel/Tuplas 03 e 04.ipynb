{
 "cells": [
  {
   "cell_type": "markdown",
   "metadata": {},
   "source": [
    "# Aplicação de Tupla - Lista de Tuplas\n",
    "\n",
    "### Estrutura:\n",
    "\n",
    "Além de casos como o do enumerate, em que usamos uma função para transformar itens em tuplas porque isso ajuda o nosso código, temos também listas de tuplas como algo comum dentro do Python."
   ]
  },
  {
   "cell_type": "raw",
   "metadata": {},
   "source": [
    "lista = [\n",
    "    tupla1,\n",
    "    tupla2,\n",
    "    tupla3,\n",
    "    ]\n",
    "    \n",
    "ou seja\n",
    "\n",
    "lista = [\n",
    "    (valor1, valor2, valor3),\n",
    "    (valor4, valor5, valor6),\n",
    "    (valor7, valor8, valor9),\n",
    "    ]"
   ]
  },
  {
   "cell_type": "markdown",
   "metadata": {},
   "source": [
    "### Exemplo:\n",
    "\n",
    "Digamos que você está analisando as vendas do Banco de Dados de um e-commerce.\n",
    "\n",
    "Em um determinado dia, você extraiu as vendas do Banco de Dados e elas vieram nesse formato:"
   ]
  },
  {
   "cell_type": "code",
   "execution_count": 1,
   "metadata": {},
   "outputs": [],
   "source": [
    "vendas = [\n",
    "    ('20/08/2020', 'iphone x', 'azul', '128gb', 350, 4000),\n",
    "    ('20/08/2020', 'iphone x', 'prata', '128gb', 1500, 4000),\n",
    "    ('20/08/2020', 'ipad', 'prata', '256gb', 127, 6000),\n",
    "    ('20/08/2020', 'ipad', 'prata', '128gb', 981, 5000),\n",
    "    ('21/08/2020', 'iphone x', 'azul', '128gb', 397, 4000),\n",
    "    ('21/08/2020', 'iphone x', 'prata', '128gb', 1017, 4000),\n",
    "    ('21/08/2020', 'ipad', 'prata', '256gb', 50, 6000),\n",
    "    ('21/08/2020', 'ipad', 'prata', '128gb', 4000, 5000),\n",
    "]"
   ]
  },
  {
   "cell_type": "markdown",
   "metadata": {},
   "source": [
    "- Qual foi o faturamento de IPhone no dia 20/08/2020?\n",
    "- Qual foi o produto mais vendido (em unidades) no dia 21/08/2020?"
   ]
  },
  {
   "cell_type": "code",
   "execution_count": 8,
   "metadata": {},
   "outputs": [
    {
     "name": "stdout",
     "output_type": "stream",
     "text": [
      "O faturamento de Iphone no dia 20/08/2020 foi de R$7.400.000,00\n",
      "O item mais vendido no dia 21/08/2020 foi ipad com 4.000 unidades vendidas na cor prata.\n"
     ]
    }
   ],
   "source": [
    "faturamento_iphone_dia_20 = 0\n",
    "qtd_produto_mais_vendido_dia_21 = 0\n",
    "produto_mais_vendido_dia_21 = ''\n",
    "cor_produto_mais_vendido_dia_21 = ''\n",
    "for data, produto, cor, memoria, qtd_vendida, preco in vendas:\n",
    "    faturamento_iphone_dia_20 += (preco * qtd_vendida) if produto == 'iphone x' and data == '20/08/2020' else 0\n",
    "    if data == '21/08/2020' and qtd_vendida > qtd_produto_mais_vendido_dia_21:\n",
    "        qtd_produto_mais_vendido_dia_21 = qtd_vendida\n",
    "        produto_mais_vendido_dia_21 = produto\n",
    "        cor_produto_mais_vendido_dia_21 = cor\n",
    "print(f'O faturamento de Iphone no dia 20/08/2020 foi de R${faturamento_iphone_dia_20:_.2f}'.replace(\".\", \",\").replace(\"_\", \".\"))\n",
    "print(f'O item mais vendido no dia 21/08/2020 foi {produto_mais_vendido_dia_21} com {qtd_produto_mais_vendido_dia_21:_} unidades vendidas na cor {cor_produto_mais_vendido_dia_21}.'.replace(\"_\", \".\"))"
   ]
  }
 ],
 "metadata": {
  "kernelspec": {
   "display_name": "Python 3",
   "language": "python",
   "name": "python3"
  },
  "language_info": {
   "codemirror_mode": {
    "name": "ipython",
    "version": 3
   },
   "file_extension": ".py",
   "mimetype": "text/x-python",
   "name": "python",
   "nbconvert_exporter": "python",
   "pygments_lexer": "ipython3",
   "version": "3.11.8"
  }
 },
 "nbformat": 4,
 "nbformat_minor": 4
}
